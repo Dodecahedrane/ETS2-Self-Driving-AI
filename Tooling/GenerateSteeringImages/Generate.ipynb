{
 "cells": [
  {
   "cell_type": "markdown",
   "id": "7556fabd",
   "metadata": {},
   "source": [
    "Import req libraries"
   ]
  },
  {
   "cell_type": "code",
   "execution_count": 14,
   "id": "cf2f2578",
   "metadata": {},
   "outputs": [],
   "source": [
    "import cv2\n",
    "import numpy as np\n",
    "from matplotlib import pyplot as plt\n",
    "import os\n",
    "from os import listdir\n",
    "from os.path import isfile, join\n",
    "import shutil"
   ]
  },
  {
   "cell_type": "markdown",
   "id": "690d388c",
   "metadata": {},
   "source": [
    "Create folder for output images"
   ]
  },
  {
   "cell_type": "code",
   "execution_count": 15,
   "id": "bf23c22c",
   "metadata": {},
   "outputs": [
    {
     "name": "stdout",
     "output_type": "stream",
     "text": [
      "Directory Exists\n"
     ]
    }
   ],
   "source": [
    "path = \"GeneratedImages\"\n",
    "exist = os.path.exists(path)\n",
    "if not exist:\n",
    "    os.makedirs(path)\n",
    "    print(\"Directoty Created\")\n",
    "else:\n",
    "    print('Directory Exists')\n",
    "    #Uncomment these two lines if you want to delete the frames folder before adding more frames\n",
    "    shutil.rmtree(path)\n",
    "    os.makedirs(path)"
   ]
  },
  {
   "cell_type": "markdown",
   "id": "52b579b8",
   "metadata": {},
   "source": [
    "Check folder with images of frames to modify is present"
   ]
  },
  {
   "cell_type": "code",
   "execution_count": 16,
   "id": "1b55dc76",
   "metadata": {},
   "outputs": [
    {
     "name": "stdout",
     "output_type": "stream",
     "text": [
      "Directory Exists\n"
     ]
    }
   ],
   "source": [
    "path = \"Starting\"\n",
    "exist = os.path.exists(path)\n",
    "if not exist:\n",
    "    os.makedirs(path)\n",
    "    print(\"Directoty Created\")\n",
    "else:\n",
    "    print('Directory Exists')"
   ]
  },
  {
   "cell_type": "markdown",
   "id": "d2f4e215",
   "metadata": {},
   "source": [
    "Check there are frames in folder, and create array of all files"
   ]
  },
  {
   "cell_type": "code",
   "execution_count": 17,
   "id": "500448cf",
   "metadata": {},
   "outputs": [],
   "source": [
    "files = [f for f in listdir(path) if isfile(join(path, f))]"
   ]
  },
  {
   "cell_type": "code",
   "execution_count": 19,
   "id": "230312cb",
   "metadata": {},
   "outputs": [
    {
     "data": {
      "text/plain": [
       "31"
      ]
     },
     "execution_count": 19,
     "metadata": {},
     "output_type": "execute_result"
    }
   ],
   "source": [
    "len(files)"
   ]
  },
  {
   "cell_type": "code",
   "execution_count": 20,
   "id": "1dea25f9",
   "metadata": {},
   "outputs": [],
   "source": [
    "for file in files:\n",
    "    #dont want the '.jpg' element of the file name in the file name\n",
    "    noExtension = file[:-4]\n",
    "    #load image\n",
    "    img = cv2.imread('Starting/'+file)\n",
    "    #crop to steering wheel logo\n",
    "    crop = img[852:932, 933:1013]\n",
    "    #save crop\n",
    "    cv2.imwrite(f'GeneratedImages/{noExtension}_0degrees_crop.jpg',crop)\n",
    "    \n",
    "    #array of all angle values to rotate by\n",
    "    angles = np.linspace(-160,160,360)\n",
    "    \n",
    "    for i in range(-10,10):\n",
    "        for j in range(-10,10):\n",
    "            for a in angles:\n",
    "                \n",
    "                #crop to steering wheel logo\n",
    "                x1 = 852 + i\n",
    "                x2 = 932 + i\n",
    "                y1 = 933 + j\n",
    "                y2 = 1013 + j\n",
    "                crop = img[x1:x2, y1:y2]\n",
    "                \n",
    "                #finder center of image\n",
    "                (h, w) = crop.shape[:2]\n",
    "                (cX, cY) = (w // 2, h // 2)\n",
    "                \n",
    "                # rotate our image by 45 degrees around the center of the image\n",
    "                M = cv2.getRotationMatrix2D((cX, cY), a, 1.0)\n",
    "                rotated = cv2.warpAffine(image, M, (w, h))\n",
    "                \n",
    "                #save image\n",
    "                cv2.imwrite(f'GeneratedImages/{noExtension}_{a}degrees_x{i}_y{j}crop.jpg',crop)"
   ]
  },
  {
   "cell_type": "code",
   "execution_count": null,
   "id": "ec97943c",
   "metadata": {},
   "outputs": [],
   "source": []
  }
 ],
 "metadata": {
  "kernelspec": {
   "display_name": "Python 3 (ipykernel)",
   "language": "python",
   "name": "python3"
  },
  "language_info": {
   "codemirror_mode": {
    "name": "ipython",
    "version": 3
   },
   "file_extension": ".py",
   "mimetype": "text/x-python",
   "name": "python",
   "nbconvert_exporter": "python",
   "pygments_lexer": "ipython3",
   "version": "3.10.6"
  }
 },
 "nbformat": 4,
 "nbformat_minor": 5
}
