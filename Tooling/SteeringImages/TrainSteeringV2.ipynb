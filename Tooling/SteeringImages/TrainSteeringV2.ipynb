{
 "cells": [
  {
   "cell_type": "code",
   "execution_count": 47,
   "metadata": {},
   "outputs": [],
   "source": [
    "from os import listdir\n",
    "from os.path import isfile, join\n",
    "from PIL import Image\n",
    "\n",
    "import random\n",
    "import math\n",
    "import time\n",
    "import numpy as np\n",
    "import cv2\n",
    "\n",
    "import matplotlib.pyplot as plt\n",
    "import matplotlib.ticker as ticker\n",
    "\n",
    "import torch\n",
    "import torchvision.models.segmentation\n",
    "import torchvision.transforms as tf\n",
    "import torch.nn as nn\n",
    "import torch.nn.functional as F\n",
    "from torch.utils.data import DataLoader, Dataset"
   ]
  },
  {
   "cell_type": "code",
   "execution_count": 48,
   "metadata": {},
   "outputs": [],
   "source": [
    "Learning_Rate = 0.000002\n",
    "width = 120\n",
    "height = 120\n",
    "batchSize = 2560\n",
    "epochs = 45\n",
    "\n",
    "trainPercentage = 0.8\n",
    "testPercentage = 0.15\n",
    "valPercentage = 0.05\n",
    "\n",
    "path = 'GeneratedImages/'\n",
    "dataFiles = []\n",
    "dataAngles = []"
   ]
  },
  {
   "cell_type": "code",
   "execution_count": 49,
   "metadata": {},
   "outputs": [
    {
     "data": {
      "text/plain": [
       "True"
      ]
     },
     "execution_count": 49,
     "metadata": {},
     "output_type": "execute_result"
    }
   ],
   "source": [
    "torch.cuda.is_available()"
   ]
  },
  {
   "cell_type": "code",
   "execution_count": 50,
   "metadata": {},
   "outputs": [],
   "source": [
    "for file in [f for f in listdir(path) if isfile(join(path, f))]:\n",
    "    angle = file.split('_')[1]\n",
    "    dataFiles.append(path + file)\n",
    "    dataAngles.append(angle)\n",
    "\n",
    "if len(dataFiles) != len(dataAngles):\n",
    "    raise Exception('Length of file and angle arrays not equal')"
   ]
  },
  {
   "cell_type": "code",
   "execution_count": 51,
   "metadata": {},
   "outputs": [
    {
     "data": {
      "text/plain": [
       "4233649"
      ]
     },
     "execution_count": 51,
     "metadata": {},
     "output_type": "execute_result"
    }
   ],
   "source": [
    "len(dataFiles)"
   ]
  },
  {
   "cell_type": "code",
   "execution_count": 52,
   "metadata": {},
   "outputs": [],
   "source": [
    "def LoadImg(path):\n",
    "    image = Image.open(path)\n",
    "    transformImg=tf.Compose([tf.ToPILImage(),tf.Resize((height,width)),tf.ToTensor(),tf.Normalize((0.485, 0.456, 0.406), (0.229, 0.224, 0.225))]) \n",
    "    image=transformImg(np.array(image))\n",
    "    return image"
   ]
  },
  {
   "cell_type": "code",
   "execution_count": 53,
   "metadata": {},
   "outputs": [],
   "source": [
    "class SteeringData(Dataset):\n",
    "    def __init__(self):\n",
    "        # data loaidng\n",
    "        self.files = dataFiles\n",
    "        self.angles = dataAngles\n",
    "        self.length = len(dataAngles)\n",
    "\n",
    "    def __getitem__(self, index):\n",
    "        imagePath = self.files[index]\n",
    "        angle = self.angles[index]\n",
    "        imageTensor = LoadImg(imagePath)\n",
    "        return imageTensor, float(angle)\n",
    "    \n",
    "    def __len__(self):\n",
    "        return self.length"
   ]
  },
  {
   "cell_type": "code",
   "execution_count": 54,
   "metadata": {},
   "outputs": [
    {
     "name": "stdout",
     "output_type": "stream",
     "text": [
      "2560 2560 1324\n"
     ]
    }
   ],
   "source": [
    "fullDataset = SteeringData()\n",
    "\n",
    "trainDataset, valDataset, testDataset = torch.utils.data.random_split(fullDataset, [trainPercentage, valPercentage, testPercentage])\n",
    "\n",
    "trainDataloader = DataLoader(dataset=trainDataset, batch_size=batchSize, shuffle=True, num_workers=6)\n",
    "trainIter = iter(trainDataloader)\n",
    "\n",
    "valDataloader = DataLoader(dataset=valDataset, batch_size=batchSize, shuffle=True, num_workers=6)\n",
    "valIter = iter(valDataloader)\n",
    "\n",
    "testDataloader = DataLoader(dataset=testDataset, batch_size=batchSize, shuffle=True, num_workers=6)\n",
    "testIter = iter(testDataloader)\n",
    "\n",
    "totalBatches = math.ceil(len(trainDataset)/batchSize)\n",
    "\n",
    "data = next(trainIter)\n",
    "imageTensor, angle = data\n",
    "print(len(imageTensor), len(angle), totalBatches)"
   ]
  },
  {
   "cell_type": "code",
   "execution_count": 55,
   "metadata": {},
   "outputs": [],
   "source": [
    "def mseTest(dataloader, model, device):\n",
    "    errorSquared = []\n",
    "\n",
    "    # Set model to eval mode\n",
    "    model = model.eval()\n",
    "    msePerBatch = []\n",
    "\n",
    "    for i, (images, angles) in enumerate(dataloader):\n",
    "        # Load image and send to device\n",
    "        images = images.to(device)\n",
    "\n",
    "        angles = angles.unsqueeze(1)\n",
    "\n",
    "        with torch.no_grad():\n",
    "            prediction = model(images)  # Run net\n",
    "\n",
    "        predAngles = prediction.data.cpu().numpy()\n",
    "\n",
    "        mse = np.square(np.subtract(angles,predAngles)).mean()\n",
    "        msePerBatch.append(mse)\n",
    "\n",
    "    mse = sum(msePerBatch)/len(msePerBatch)\n",
    "\n",
    "    return mse.item()"
   ]
  },
  {
   "cell_type": "code",
   "execution_count": 56,
   "metadata": {},
   "outputs": [],
   "source": [
    "class net(nn.Module):\n",
    "    def __init__(self):\n",
    "        super(net, self).__init__()\n",
    "        self.fc = nn.Linear(512, 128)\n",
    "        \n",
    "        self.branch_a1 = nn.Linear(128, 32)\n",
    "        self.branch_a2 = nn.Linear(32, 1)\n",
    "    \n",
    "    def forward(self, x):\n",
    "        x = F.leaky_relu(self.fc(x))\n",
    "\n",
    "        a = F.leaky_relu(self.branch_a1(x))\n",
    "        \n",
    "        out1 = self.branch_a2(a)\n",
    "        \n",
    "        return out1\n",
    "\n",
    "#load net\n",
    "#To Load Pretrained Weights:   weights='ResNet18_Weights.DEFAULT'\n",
    "resnet18 = torchvision.models.resnet18()\n",
    "resnet18.fc = nn.Identity()\n",
    "net_add=net()\n",
    "model = nn.Sequential(resnet18, net_add)\n",
    "\n",
    "# Set device GPU or CPU\n",
    "device = torch.device('cuda') if torch.cuda.is_available() else torch.device('cpu') \n",
    "\n",
    "# load model to GPU\n",
    "model = model.to(device)\n",
    "\n",
    "# Create optimizer\n",
    "optimizer = torch.optim.Adam(params=model.parameters(),lr=Learning_Rate) \n",
    "\n",
    "# Save average loss for display\n",
    "losses=np.zeros([epochs]) \n",
    "\n",
    "mseAtEpochForVal = []\n",
    "epochArr = []"
   ]
  },
  {
   "cell_type": "code",
   "execution_count": 57,
   "metadata": {},
   "outputs": [
    {
     "name": "stdout",
     "output_type": "stream",
     "text": [
      "Starting Epoch: 1\n",
      "TTR Epoch for 1 of 25: 1112 Seconds\n",
      "Average Batch Time: 0.75 Seconds\n",
      "\n",
      "Starting Epoch: 2\n",
      "TTR Epoch for 2 of 25: 1043 Seconds\n",
      "Average Batch Time: 0.71 Seconds\n",
      "    Saving New Best Model With MSE Of: 0.00010430575719300608\n",
      "\n",
      "Starting Epoch: 3\n",
      "TTR Epoch for 3 of 25: 1072 Seconds\n",
      "Average Batch Time: 0.74 Seconds\n",
      "    Saving New Best Model With MSE Of: 5.976718974820902e-05\n",
      "\n",
      "Starting Epoch: 4\n",
      "TTR Epoch for 4 of 25: 1085 Seconds\n",
      "Average Batch Time: 0.74 Seconds\n",
      "    Saving New Best Model With MSE Of: 3.6349057877580265e-05\n",
      "\n",
      "Starting Epoch: 5\n",
      "TTR Epoch for 5 of 25: 1087 Seconds\n",
      "Average Batch Time: 0.74 Seconds\n",
      "\n",
      "Starting Epoch: 6\n",
      "TTR Epoch for 6 of 25: 1060 Seconds\n",
      "Average Batch Time: 0.73 Seconds\n",
      "    Saving New Best Model With MSE Of: 2.1906491702261738e-05\n",
      "\n",
      "Starting Epoch: 7\n",
      "TTR Epoch for 7 of 25: 1047 Seconds\n",
      "Average Batch Time: 0.72 Seconds\n",
      "    Saving New Best Model With MSE Of: 1.954546422540245e-05\n",
      "\n",
      "Starting Epoch: 8\n",
      "TTR Epoch for 8 of 25: 1047 Seconds\n",
      "Average Batch Time: 0.72 Seconds\n",
      "    Saving New Best Model With MSE Of: 1.5284012474933292e-05\n",
      "\n",
      "Starting Epoch: 9\n",
      "TTR Epoch for 9 of 25: 1047 Seconds\n",
      "Average Batch Time: 0.72 Seconds\n",
      "    Saving New Best Model With MSE Of: 1.4945658731740469e-05\n",
      "\n",
      "Starting Epoch: 10\n",
      "TTR Epoch for 10 of 25: 1044 Seconds\n",
      "Average Batch Time: 0.72 Seconds\n",
      "    Saving New Best Model With MSE Of: 1.3685000135013876e-05\n",
      "\n",
      "Starting Epoch: 11\n",
      "TTR Epoch for 11 of 25: 1044 Seconds\n",
      "Average Batch Time: 0.72 Seconds\n",
      "    Saving New Best Model With MSE Of: 1.231615144789752e-05\n",
      "\n",
      "Starting Epoch: 12\n",
      "TTR Epoch for 12 of 25: 1037 Seconds\n",
      "Average Batch Time: 0.72 Seconds\n",
      "    Saving New Best Model With MSE Of: 9.969287213916266e-06\n",
      "\n",
      "Starting Epoch: 13\n",
      "TTR Epoch for 13 of 25: 1043 Seconds\n",
      "Average Batch Time: 0.72 Seconds\n",
      "\n",
      "Starting Epoch: 14\n",
      "TTR Epoch for 14 of 25: 1047 Seconds\n",
      "Average Batch Time: 0.73 Seconds\n",
      "\n",
      "Starting Epoch: 15\n",
      "TTR Epoch for 15 of 25: 1046 Seconds\n",
      "Average Batch Time: 0.72 Seconds\n",
      "    Saving New Best Model With MSE Of: 8.947357950929049e-06\n",
      "\n",
      "Starting Epoch: 16\n",
      "TTR Epoch for 16 of 25: 1044 Seconds\n",
      "Average Batch Time: 0.72 Seconds\n",
      "    Saving New Best Model With MSE Of: 8.574945144971259e-06\n",
      "\n",
      "Starting Epoch: 17\n",
      "TTR Epoch for 17 of 25: 1043 Seconds\n",
      "Average Batch Time: 0.72 Seconds\n",
      "    Saving New Best Model With MSE Of: 8.15482460937072e-06\n",
      "\n",
      "Starting Epoch: 18\n",
      "TTR Epoch for 18 of 25: 1049 Seconds\n",
      "Average Batch Time: 0.73 Seconds\n",
      "\n",
      "Starting Epoch: 19\n",
      "TTR Epoch for 19 of 25: 1042 Seconds\n",
      "Average Batch Time: 0.72 Seconds\n",
      "    Saving New Best Model With MSE Of: 7.378487944122274e-06\n",
      "\n",
      "Starting Epoch: 20\n",
      "TTR Epoch for 20 of 25: 1045 Seconds\n",
      "Average Batch Time: 0.72 Seconds\n",
      "\n",
      "Starting Epoch: 21\n",
      "TTR Epoch for 21 of 25: 1044 Seconds\n",
      "Average Batch Time: 0.72 Seconds\n",
      "\n",
      "Starting Epoch: 22\n",
      "TTR Epoch for 22 of 25: 1049 Seconds\n",
      "Average Batch Time: 0.73 Seconds\n",
      "\n",
      "Starting Epoch: 23\n",
      "TTR Epoch for 23 of 25: 1048 Seconds\n",
      "Average Batch Time: 0.73 Seconds\n",
      "\n",
      "Starting Epoch: 24\n",
      "TTR Epoch for 24 of 25: 1041 Seconds\n",
      "Average Batch Time: 0.72 Seconds\n",
      "\n",
      "Starting Epoch: 25\n",
      "TTR Epoch for 25 of 25: 1045 Seconds\n",
      "Average Batch Time: 0.72 Seconds\n",
      "\n",
      "Total TTR: 26309 Seconds\n"
     ]
    }
   ],
   "source": [
    "tStart = time.time()\n",
    "saveStr = ''\n",
    "\n",
    "for epoch in range(epochs):\n",
    "    print(f'Starting Epoch: {str(epoch + 1)}')\n",
    "    t = time.time()\n",
    "    batchTimes=[]\n",
    "    for i, (images, angles) in enumerate(trainDataloader):\n",
    "        # start batch timer\n",
    "        batchStart = time.time()\n",
    "\n",
    "        # Load image and send to device\n",
    "        images = images.to(device)\n",
    "\n",
    "        # Load GT and send to device\n",
    "        angles = angles.to(device)\n",
    "\n",
    "        #unqueeze angles to match return array from prediction\n",
    "        angles = angles.unsqueeze(1)\n",
    "\n",
    "        # set model to training mode\n",
    "        model = model.train()\n",
    "\n",
    "        # Make prediction\n",
    "        predLevels = model(images)\n",
    "        model.zero_grad()\n",
    "\n",
    "        # Calculate loss\n",
    "        loss = torch.nn.L1Loss()\n",
    "        output = loss(predLevels, angles)\n",
    "\n",
    "        # Backpropogate loss\n",
    "        output.backward()\n",
    "\n",
    "        # Apply gradient descent change to weight\n",
    "        optimizer.step() \n",
    "\n",
    "        #append TTR batch\n",
    "        batchTimes.append(time.time()-batchStart)\n",
    "\n",
    "    #calculate val set MSE\n",
    "    mseForEpoch = mseTest(valDataloader, model, device)\n",
    "    \n",
    "    epochArr.append(epoch)\n",
    "\n",
    "    # Save loss\n",
    "    losses[epoch]=output.data.cpu().numpy()\n",
    "\n",
    "    #compare model against previous MSE values, save model if better than previous best\n",
    "    if epoch > 0:\n",
    "        if mseForEpoch < min(mseAtEpochForVal):\n",
    "            modelPath = 'bestModel.torch'\n",
    "            saveStr = f'    Saving New Best Model With MSE Of: {str(mseForEpoch)}\\n'\n",
    "            torch.save(model.state_dict(),   modelPath)\n",
    "        else:\n",
    "            saveStr = ''\n",
    "\n",
    "    mseAtEpochForVal.append(mseForEpoch)\n",
    "\n",
    "    #TTR\n",
    "    elapsed = time.time() - t\n",
    "    print(f'TTR Epoch for {epoch+1} of {epochs}: {str(round(elapsed))} Seconds')\n",
    "    print(f'Average Batch Time: {round(sum(batchTimes)/len(batchTimes),2)} Seconds')\n",
    "    print(saveStr)\n",
    "\n",
    "tEnd = time.time()\n",
    "elapsed = tEnd - tStart\n",
    "print(\"Total TTR: \" + str(round(elapsed)) + ' Seconds')"
   ]
  },
  {
   "cell_type": "code",
   "execution_count": 58,
   "metadata": {},
   "outputs": [
    {
     "data": {
      "image/png": "[encoded data removed]",
      "text/plain": [
       "<Figure size 432x288 with 1 Axes>"
      ]
     },
     "metadata": {
      "needs_background": "light"
     },
     "output_type": "display_data"
    }
   ],
   "source": [
    "plt.plot(epochArr, losses, label='Loss')\n",
    "\n",
    "plt.title('Epoch vs Loss')\n",
    "plt.xlabel('Epoch')\n",
    "plt.ylabel('Loss')\n",
    "plt.legend()\n",
    "plt.show()"
   ]
  },
  {
   "cell_type": "code",
   "execution_count": 59,
   "metadata": {},
   "outputs": [
    {
     "data": {
      "image/png": "[encoded data removed]",
      "text/plain": [
       "<Figure size 432x288 with 1 Axes>"
      ]
     },
     "metadata": {
      "needs_background": "light"
     },
     "output_type": "display_data"
    }
   ],
   "source": [
    "plt.plot(epochArr, mseAtEpochForVal, label='Val Set')\n",
    "\n",
    "plt.title('Epoch vs MSE of Val Sets')\n",
    "plt.xlabel('Epoch')\n",
    "plt.ylabel('MSE')\n",
    "plt.legend()\n",
    "plt.show()"
   ]
  },
  {
   "cell_type": "code",
   "execution_count": 60,
   "metadata": {},
   "outputs": [
    {
     "name": "stdout",
     "output_type": "stream",
     "text": [
      "Min MSE Val Set: 7.378487944122274e-06\n",
      "Test Set MSE:  5.700064107170153e-06\n"
     ]
    }
   ],
   "source": [
    "print('Min MSE Val Set: ' + str(min(mseAtEpochForVal)))\n",
    "mseTestSet = mseTest(testDataloader, model, device)\n",
    "print(\"Test Set MSE: \",mseTestSet)"
   ]
  }
 ],
 "metadata": {
  "kernelspec": {
   "display_name": "Python 3 (ipykernel)",
   "language": "python",
   "name": "python3"
  },
  "language_info": {
   "codemirror_mode": {
    "name": "ipython",
    "version": 3
   },
   "file_extension": ".py",
   "mimetype": "text/x-python",
   "name": "python",
   "nbconvert_exporter": "python",
   "pygments_lexer": "ipython3",
   "version": "3.10.6"
  },
  "orig_nbformat": 4,
  "vscode": {
   "interpreter": {
    "hash": "e7370f93d1d0cde622a1f8e1c04877d8463912d04d973331ad4851f04de6915a"
   }
  }
 },
 "nbformat": 4,
 "nbformat_minor": 2
}
