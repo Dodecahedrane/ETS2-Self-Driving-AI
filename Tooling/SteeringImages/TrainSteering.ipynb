{
 "cells": [
  {
   "cell_type": "code",
   "execution_count": 18,
   "id": "79a649e6",
   "metadata": {},
   "outputs": [],
   "source": [
    "from os import listdir\n",
    "from os.path import isfile, join\n",
    "import random\n",
    "from PIL import Image\n",
    "\n",
    "import numpy as np\n",
    "import torchvision.models.segmentation\n",
    "import torch\n",
    "import torchvision.transforms as tf\n",
    "Learning_Rate=1e-5\n",
    "width=height=900 # image width and height\n",
    "batchSize=1"
   ]
  },
  {
   "cell_type": "code",
   "execution_count": 34,
   "id": "9f04beae",
   "metadata": {},
   "outputs": [
    {
     "data": {
      "text/plain": [
       "True"
      ]
     },
     "execution_count": 34,
     "metadata": {},
     "output_type": "execute_result"
    }
   ],
   "source": [
    "torch.cuda.is_available()"
   ]
  },
  {
   "cell_type": "code",
   "execution_count": 33,
   "id": "87275e1a",
   "metadata": {},
   "outputs": [
    {
     "data": {
      "text/plain": [
       "144001"
      ]
     },
     "execution_count": 33,
     "metadata": {},
     "output_type": "execute_result"
    }
   ],
   "source": [
    "path = 'GeneratedImages'\n",
    "files = [f for f in listdir(path) if isfile(join(path, f))]\n",
    "len(files)"
   ]
  },
  {
   "cell_type": "code",
   "execution_count": 35,
   "id": "69cb6019",
   "metadata": {},
   "outputs": [],
   "source": [
    "def LoadRandomImg():\n",
    "    path = 'GeneratedImages/' + files[random.randrange(0,len(files))]\n",
    "    image = Image.open(path)\n",
    "    return np.array(image)"
   ]
  },
  {
   "cell_type": "code",
   "execution_count": 36,
   "id": "8636cac7",
   "metadata": {},
   "outputs": [],
   "source": [
    "def LoadBatch():\n",
    "    images = torch.zeros([batchSize,3,height,width])\n",
    "    FillLevel = torch.zeros([batchSize])\n",
    "    for i in range(batchSize):\n",
    "        images[i],FillLevel[i]=LoadRandomImg()\n",
    "    return images,FillLevel"
   ]
  },
  {
   "cell_type": "code",
   "execution_count": null,
   "id": "2acc3d07",
   "metadata": {},
   "outputs": [],
   "source": [
    "#--------------Load and set net and optimizer-------------------------------------\n",
    "\n",
    "# Set device GPU or CPU where the training will take place\n",
    "device = torch.device('cuda') if torch.cuda.is_available() else torch.device('cpu') \n",
    "\n",
    "#load net\n",
    "Net = torchvision.models.resnet18(pretrained=True)\n",
    "\n",
    "# Change final layer to predict one value\n",
    "Net.fc = torch.nn.Linear(in_features=512, out_features=1, bias=True) \n",
    "\n",
    "Net = Net.to(device)\n",
    "\n",
    "# Create adam optimizer\n",
    "optimizer = torch.optim.Adam(params=Net.parameters(),lr=Learning_Rate) \n",
    "\n",
    "\n",
    "\n",
    "#----------------Train------------------------------------------------------------\n",
    "\n",
    "# Save average loss for display\n",
    "AverageLoss=np.zeros([50]) \n",
    "\n",
    "# Training loop\n",
    "for itr in range(500001): \n",
    "    # Load taining batch\n",
    "    images,GTFillLevel=LoadBatch()\n",
    "\n",
    "    # Load image\n",
    "    images=torch.autograd.Variable(images,requires_grad=False).to(device) \n",
    "    \n",
    "    # Load Ground truth fill level\n",
    "    GTFillLevel = torch.autograd.Variable(GTFillLevel, requires_grad=False).to(device) \n",
    "    \n",
    "    # make prediction\n",
    "    PredLevel=Net(images)\n",
    "    Net.zero_grad()\n",
    "    Loss=torch.abs(PredLevel-GTFillLevel).mean()\n",
    "    \n",
    "    # Backpropogate loss\n",
    "    Loss.backward() \n",
    "    \n",
    "    # Apply gradient descent change to weight\n",
    "    optimizer.step() \n",
    "    \n",
    "    # Save loss average\n",
    "    AverageLoss[itr%50]=Loss.data.cpu().numpy() \n",
    "    \n",
    "    print(itr,\") Loss=\",Loss.data.cpu().numpy(),'AverageLoss',AverageLoss.mean()) # Display loss\n",
    "    \n",
    "    # Save model\n",
    "    if itr % 200 == 0: \n",
    "        #Save model weight\n",
    "        print(\"Saving Model\" +str(itr) + \".torch\") \n",
    "        torch.save(Net.state_dict(),   str(itr) + \".torch\")"
   ]
  }
 ],
 "metadata": {
  "kernelspec": {
   "display_name": "Python 3 (ipykernel)",
   "language": "python",
   "name": "python3"
  },
  "language_info": {
   "codemirror_mode": {
    "name": "ipython",
    "version": 3
   },
   "file_extension": ".py",
   "mimetype": "text/x-python",
   "name": "python",
   "nbconvert_exporter": "python",
   "pygments_lexer": "ipython3",
   "version": "3.10.6"
  }
 },
 "nbformat": 4,
 "nbformat_minor": 5
}
