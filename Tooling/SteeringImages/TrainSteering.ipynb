{
 "cells": [
  {
   "cell_type": "code",
   "execution_count": 1,
   "id": "79a649e6",
   "metadata": {},
   "outputs": [],
   "source": [
    "from os import listdir\n",
    "from os.path import isfile, join\n",
    "from PIL import Image\n",
    "\n",
    "import random\n",
    "import math\n",
    "import time\n",
    "import numpy as np\n",
    "import cv2\n",
    "\n",
    "import matplotlib.pyplot as plt\n",
    "import matplotlib.ticker as ticker\n",
    "\n",
    "import torchvision.models.segmentation\n",
    "import torch\n",
    "import torchvision.transforms as tf\n",
    "import torch.nn as nn\n",
    "import torch.nn.functional as F"
   ]
  },
  {
   "cell_type": "code",
   "execution_count": 2,
   "id": "985cbb27",
   "metadata": {},
   "outputs": [],
   "source": [
    "Learning_Rate = 0.000004\n",
    "width = 120\n",
    "height = 120\n",
    "batchSize = 2900\n",
    "epochs = 25\n",
    "\n",
    "trainPercentage = 0.8\n",
    "testPercentage = 0.1\n",
    "valPercentage = 0.1 "
   ]
  },
  {
   "cell_type": "code",
   "execution_count": 3,
   "id": "9f04beae",
   "metadata": {},
   "outputs": [
    {
     "data": {
      "text/plain": [
       "True"
      ]
     },
     "execution_count": 3,
     "metadata": {},
     "output_type": "execute_result"
    }
   ],
   "source": [
    "torch.cuda.is_available()"
   ]
  },
  {
   "cell_type": "code",
   "execution_count": 4,
   "id": "87275e1a",
   "metadata": {},
   "outputs": [],
   "source": [
    "path = 'GeneratedImages'\n",
    "files = [f for f in listdir(path) if isfile(join(path, f))]\n",
    "\n",
    "#randomise the order of the files list\n",
    "random.shuffle(files)"
   ]
  },
  {
   "cell_type": "code",
   "execution_count": 5,
   "id": "f8747c95",
   "metadata": {},
   "outputs": [
    {
     "data": {
      "text/plain": [
       "195976"
      ]
     },
     "execution_count": 5,
     "metadata": {},
     "output_type": "execute_result"
    }
   ],
   "source": [
    "len(files)"
   ]
  },
  {
   "cell_type": "code",
   "execution_count": 6,
   "id": "69cb6019",
   "metadata": {},
   "outputs": [],
   "source": [
    "def LoadRandomImg():\n",
    "    path = 'GeneratedImages/' + files[random.randrange(0,len(files))]\n",
    "    print(path)\n",
    "    image = Image.open(path)\n",
    "    angle = path.split('_')[1]\n",
    "\n",
    "    transformImg=tf.Compose([tf.ToPILImage(),tf.Resize((height,width)),tf.ToTensor(),tf.Normalize((0.485, 0.456, 0.406), (0.229, 0.224, 0.225))]) \n",
    "    image=transformImg(np.array(image))\n",
    "    return image, float(angle)"
   ]
  },
  {
   "cell_type": "code",
   "execution_count": 7,
   "id": "ec31f2fb",
   "metadata": {},
   "outputs": [],
   "source": [
    "def LoadImg(name):\n",
    "    path = 'GeneratedImages/' + name\n",
    "    image = Image.open(path)\n",
    "    angle = path.split('_')[1]\n",
    "\n",
    "    transformImg=tf.Compose([tf.ToPILImage(),tf.Resize((height,width)),tf.ToTensor(),tf.Normalize((0.485, 0.456, 0.406), (0.229, 0.224, 0.225))]) \n",
    "    image=transformImg(np.array(image))\n",
    "    return image, float(angle)"
   ]
  },
  {
   "cell_type": "code",
   "execution_count": 8,
   "id": "53a54171",
   "metadata": {},
   "outputs": [],
   "source": [
    "trainFiles, valFiles, testFiles = np.split(files, [int(len(files)*trainPercentage), int(len(files)*trainPercentage) + int(len(files)*(testPercentage))])\n",
    "trainFiles = np.ndarray.tolist(trainFiles)\n",
    "trainFilesNotModified = trainFiles.copy()\n",
    "valFiles = np.ndarray.tolist(valFiles)\n",
    "testFiles = np.ndarray.tolist(testFiles)\n",
    "\n",
    "totalBatches = math.ceil(len(trainFiles)/batchSize)\n",
    "\n",
    "allBatches = []\n",
    "\n",
    "for i in range(0,totalBatches):\n",
    "    batch = []\n",
    "    for j in range(0,batchSize):\n",
    "        try:\n",
    "            fileName = trainFiles[0]\n",
    "            trainFiles.remove(fileName)\n",
    "        except:\n",
    "            fileName = files[random.randrange(0,len(files))]\n",
    "        batch.append(LoadImg(fileName))\n",
    "    \n",
    "    allBatches.append(batch)\n",
    "\n",
    "trainFiles = trainFilesNotModified"
   ]
  },
  {
   "cell_type": "code",
   "execution_count": 9,
   "id": "8636cac7",
   "metadata": {},
   "outputs": [],
   "source": [
    "def LoadBatch(i):\n",
    "    images = torch.zeros([batchSize,3,height,width])\n",
    "    angles = torch.zeros([batchSize,1])\n",
    "    for j in range(0,batchSize):\n",
    "        images[j] = allBatches[i][j][0]\n",
    "        angles[j] = allBatches[i][j][1]\n",
    "    return images,angles"
   ]
  },
  {
   "cell_type": "code",
   "execution_count": 10,
   "id": "49e1c54c",
   "metadata": {},
   "outputs": [],
   "source": [
    "def mseTest(set, model, partialSet = True, partialSetPer = 1):\n",
    "    \n",
    "    if set == 'test':\n",
    "        files = testFiles\n",
    "    elif(set == 'val'):\n",
    "        files = valFiles\n",
    "    elif(set == 'train'):\n",
    "        files = trainFiles\n",
    "    \n",
    "    if partialSet:\n",
    "        random.shuffle(files)\n",
    "        length = len(files)\n",
    "        files = files[0:int(length*partialSetPer)]\n",
    "\n",
    "    error = []\n",
    "\n",
    "    device = torch.device('cuda') if torch.cuda.is_available() else torch.device('cpu')\n",
    "\n",
    "    # Set model to eval mode\n",
    "    model = model.eval()\n",
    "\n",
    "    for file in files:\n",
    "        image, trueAngle = LoadImg(file)\n",
    "\n",
    "        image = image.to(device).unsqueeze(0)\n",
    "\n",
    "        with torch.no_grad():\n",
    "            prediction = model(image)  # Run net\n",
    "\n",
    "        predAngle = prediction.data.cpu().numpy()\n",
    "\n",
    "        error.append((trueAngle - predAngle)**2)\n",
    "\n",
    "    mse = (1/len(testFiles))*(sum(error))\n",
    "\n",
    "    #print(set + \" MSE: \", str(mse[0][0]))\n",
    "    return mse[0][0]"
   ]
  },
  {
   "cell_type": "code",
   "execution_count": 11,
   "id": "cd46d144",
   "metadata": {},
   "outputs": [
    {
     "data": {
      "text/plain": [
       "156780"
      ]
     },
     "execution_count": 11,
     "metadata": {},
     "output_type": "execute_result"
    }
   ],
   "source": [
    "len(trainFiles)"
   ]
  },
  {
   "cell_type": "code",
   "execution_count": 12,
   "id": "6dca367c",
   "metadata": {},
   "outputs": [],
   "source": [
    "class net(nn.Module):\n",
    "    def __init__(self):\n",
    "        super(net, self).__init__()\n",
    "        self.fc = nn.Linear(512, 128)\n",
    "        \n",
    "        self.branch_a1 = nn.Linear(128, 32)\n",
    "        self.branch_a2 = nn.Linear(32, 1)\n",
    "    \n",
    "    def forward(self, x):\n",
    "        x = F.leaky_relu(self.fc(x))\n",
    "\n",
    "        a = F.leaky_relu(self.branch_a1(x))\n",
    "        \n",
    "        out1 = self.branch_a2(a)\n",
    "        \n",
    "        return out1"
   ]
  },
  {
   "cell_type": "code",
   "execution_count": 13,
   "id": "06084bb5",
   "metadata": {},
   "outputs": [],
   "source": [
    "#load net\n",
    "#To Load Pretrained Weights:   weights='ResNet18_Weights.DEFAULT'\n",
    "resnet18 = torchvision.models.resnet18()\n",
    "resnet18.fc = nn.Identity()\n",
    "net_add=net()\n",
    "model = nn.Sequential(resnet18, net_add)"
   ]
  },
  {
   "cell_type": "code",
   "execution_count": 14,
   "id": "b1946bef",
   "metadata": {},
   "outputs": [],
   "source": [
    "# Set device GPU or CPU\n",
    "device = torch.device('cuda') if torch.cuda.is_available() else torch.device('cpu') \n",
    "\n",
    "# load model to GPU\n",
    "model = model.to(device)"
   ]
  },
  {
   "cell_type": "code",
   "execution_count": 15,
   "id": "2acc3d07",
   "metadata": {},
   "outputs": [
    {
     "name": "stdout",
     "output_type": "stream",
     "text": [
      "Starting Epoch: 1\n",
      "TTR Epoch for 1 of 25: 107 Seconds\n",
      "\n",
      "Starting Epoch: 2\n",
      "TTR Epoch for 2 of 25: 110 Seconds\n",
      "    Saving New Best Model With MSE Of: 0.013227187\n",
      "\n",
      "Starting Epoch: 3\n",
      "TTR Epoch for 3 of 25: 111 Seconds\n",
      "    Saving New Best Model With MSE Of: 0.002406725\n",
      "\n",
      "Starting Epoch: 4\n",
      "TTR Epoch for 4 of 25: 116 Seconds\n",
      "    Saving New Best Model With MSE Of: 0.00092443556\n",
      "\n",
      "Starting Epoch: 5\n",
      "TTR Epoch for 5 of 25: 116 Seconds\n",
      "    Saving New Best Model With MSE Of: 0.0006349106\n",
      "\n",
      "Starting Epoch: 6\n",
      "TTR Epoch for 6 of 25: 116 Seconds\n",
      "    Saving New Best Model With MSE Of: 0.00051238615\n",
      "\n",
      "Starting Epoch: 7\n",
      "TTR Epoch for 7 of 25: 115 Seconds\n",
      "    Saving New Best Model With MSE Of: 0.00043878114\n",
      "\n",
      "Starting Epoch: 8\n",
      "TTR Epoch for 8 of 25: 114 Seconds\n",
      "    Saving New Best Model With MSE Of: 0.0003900709\n",
      "\n",
      "Starting Epoch: 9\n",
      "TTR Epoch for 9 of 25: 115 Seconds\n",
      "    Saving New Best Model With MSE Of: 0.00035317912\n",
      "\n",
      "Starting Epoch: 10\n",
      "TTR Epoch for 10 of 25: 116 Seconds\n",
      "    Saving New Best Model With MSE Of: 0.0003234771\n",
      "\n",
      "Starting Epoch: 11\n",
      "TTR Epoch for 11 of 25: 106 Seconds\n",
      "    Saving New Best Model With MSE Of: 0.0002997114\n",
      "\n",
      "Starting Epoch: 12\n",
      "TTR Epoch for 12 of 25: 108 Seconds\n",
      "    Saving New Best Model With MSE Of: 0.0002839197\n",
      "\n",
      "Starting Epoch: 13\n",
      "TTR Epoch for 13 of 25: 104 Seconds\n",
      "    Saving New Best Model With MSE Of: 0.00027290807\n",
      "\n",
      "Starting Epoch: 14\n",
      "TTR Epoch for 14 of 25: 103 Seconds\n",
      "    Saving New Best Model With MSE Of: 0.000263596\n",
      "\n",
      "Starting Epoch: 15\n",
      "TTR Epoch for 15 of 25: 108 Seconds\n",
      "    Saving New Best Model With MSE Of: 0.00025216865\n",
      "\n",
      "Starting Epoch: 16\n",
      "TTR Epoch for 16 of 25: 104 Seconds\n",
      "    Saving New Best Model With MSE Of: 0.00024312027\n",
      "\n",
      "Starting Epoch: 17\n",
      "TTR Epoch for 17 of 25: 100 Seconds\n",
      "    Saving New Best Model With MSE Of: 0.00023395743\n",
      "\n",
      "Starting Epoch: 18\n",
      "TTR Epoch for 18 of 25: 96 Seconds\n",
      "    Saving New Best Model With MSE Of: 0.00023149543\n",
      "\n",
      "Starting Epoch: 19\n",
      "TTR Epoch for 19 of 25: 96 Seconds\n",
      "    Saving New Best Model With MSE Of: 0.00022913594\n",
      "\n",
      "Starting Epoch: 20\n",
      "TTR Epoch for 20 of 25: 97 Seconds\n",
      "    Saving New Best Model With MSE Of: 0.00022905371\n",
      "\n",
      "Starting Epoch: 21\n",
      "TTR Epoch for 21 of 25: 95 Seconds\n",
      "    Saving New Best Model With MSE Of: 0.0002290122\n",
      "\n",
      "Starting Epoch: 22\n",
      "TTR Epoch for 22 of 25: 96 Seconds\n",
      "    Saving New Best Model With MSE Of: 0.00022229739\n",
      "\n",
      "Starting Epoch: 23\n",
      "TTR Epoch for 23 of 25: 96 Seconds\n",
      "    Saving New Best Model With MSE Of: 0.00021158649\n",
      "\n",
      "Starting Epoch: 24\n",
      "TTR Epoch for 24 of 25: 99 Seconds\n",
      "    Saving New Best Model With MSE Of: 0.00020546958\n",
      "\n",
      "Starting Epoch: 25\n",
      "TTR Epoch for 25 of 25: 101 Seconds\n",
      "    Saving New Best Model With MSE Of: 0.00020206088\n",
      "\n",
      "Total TTR: 2644 Seconds\n"
     ]
    }
   ],
   "source": [
    "# Create optimizer\n",
    "optimizer = torch.optim.Adam(params=model.parameters(),lr=Learning_Rate) \n",
    "\n",
    "# Save average loss for display\n",
    "losses=np.zeros([epochs]) \n",
    "\n",
    "currentBatch = 0\n",
    "max = len(allBatches)*epochs\n",
    "\n",
    "mseAtEpochForVal = []\n",
    "epochArr = []\n",
    "\n",
    "tStart = time.time()\n",
    "saveStr = ''\n",
    "\n",
    "for epoch in range(0,epochs):\n",
    "    print(f'Starting Epoch: {str(epoch + 1)}')\n",
    "    t = time.time()\n",
    "\n",
    "    for batch in range(0,len(allBatches)-1):\n",
    "        # Load taining batch\n",
    "        images,angles = LoadBatch(batch)\n",
    "        \n",
    "        # Load image and send to device\n",
    "        images = images.to(device)\n",
    "\n",
    "        # Load GT and send to device\n",
    "        angles = angles.to(device)\n",
    "        \n",
    "        # set model to training mode\n",
    "        model = model.train()\n",
    "\n",
    "        # Make prediction\n",
    "        predLevels = model(images)\n",
    "        model.zero_grad()\n",
    "\n",
    "        # Calculate loss\n",
    "        loss = torch.nn.L1Loss()\n",
    "        output = loss(predLevels, angles)\n",
    "\n",
    "        # Backpropogate loss\n",
    "        output.backward()\n",
    "        \n",
    "        # Apply gradient descent change to weight\n",
    "        optimizer.step() \n",
    "\n",
    "    # copy training files for next epoch  (TODO make this better)\n",
    "    trainFiles = trainFilesNotModified.copy()\n",
    "\n",
    "    #val MSE\n",
    "    mseForEpoch = mseTest('val', model)\n",
    "    \n",
    "    epochArr.append(epoch)\n",
    "\n",
    "    # Save loss\n",
    "    losses[epoch]=output.data.cpu().numpy()\n",
    "\n",
    "    #compare model against previous MSE values, save model if better than previous best\n",
    "    if epoch > 0:\n",
    "        if mseForEpoch < min(mseAtEpochForVal):\n",
    "            modelPath = 'bestModel.torch'\n",
    "            saveStr = f'    Saving New Best Model With MSE Of: {str(mseForEpoch)}\\n'\n",
    "            torch.save(model.state_dict(),   modelPath)\n",
    "        else:\n",
    "            saveStr = ''\n",
    "\n",
    "    mseAtEpochForVal.append(mseForEpoch)\n",
    "\n",
    "    #TTR\n",
    "    elapsed = time.time() - t\n",
    "    print(f'TTR Epoch for {epoch+1} of {epochs}: {str(round(elapsed))} Seconds')\n",
    "    print(saveStr)\n",
    "\n",
    "tEnd = time.time()\n",
    "elapsed = tEnd - tStart\n",
    "print(\"Total TTR: \" + str(round(elapsed)) + ' Seconds')"
   ]
  },
  {
   "cell_type": "code",
   "execution_count": 16,
   "id": "a5b8b817",
   "metadata": {},
   "outputs": [
    {
     "data": {
      "image/png": "[encoded data removed]",
      "text/plain": [
       "<Figure size 432x288 with 1 Axes>"
      ]
     },
     "metadata": {
      "needs_background": "light"
     },
     "output_type": "display_data"
    }
   ],
   "source": [
    "plt.plot(epochArr, losses, label='Loss')\n",
    "\n",
    "plt.title('Epoch vs Loss')\n",
    "plt.xlabel('Epoch')\n",
    "plt.ylabel('Loss')\n",
    "plt.legend()\n",
    "plt.show()"
   ]
  },
  {
   "cell_type": "code",
   "execution_count": 17,
   "id": "56a40903",
   "metadata": {},
   "outputs": [
    {
     "data": {
      "image/png": "[encoded data removed]",
      "text/plain": [
       "<Figure size 432x288 with 1 Axes>"
      ]
     },
     "metadata": {
      "needs_background": "light"
     },
     "output_type": "display_data"
    }
   ],
   "source": [
    "plt.plot(epochArr, mseAtEpochForVal, label='Val Set')\n",
    "\n",
    "plt.title('Epoch vs MSE of Val Sets')\n",
    "plt.xlabel('Epoch')\n",
    "plt.ylabel('MSE')\n",
    "plt.legend()\n",
    "plt.show()"
   ]
  },
  {
   "cell_type": "code",
   "execution_count": 18,
   "id": "fba095e0",
   "metadata": {},
   "outputs": [
    {
     "name": "stdout",
     "output_type": "stream",
     "text": [
      "Min MSE: 0.00020206088\n"
     ]
    }
   ],
   "source": [
    "print('Min MSE: ' + str(min(mseAtEpochForVal)))"
   ]
  },
  {
   "cell_type": "code",
   "execution_count": 19,
   "id": "b6eaf12c",
   "metadata": {},
   "outputs": [
    {
     "name": "stdout",
     "output_type": "stream",
     "text": [
      "0.00021809069\n"
     ]
    }
   ],
   "source": [
    "mseTestSet = mseTest('test', model)\n",
    "print(mseTestSet)"
   ]
  },
  {
   "cell_type": "code",
   "execution_count": 20,
   "id": "280292c0",
   "metadata": {},
   "outputs": [
    {
     "name": "stdout",
     "output_type": "stream",
     "text": [
      "GeneratedImages/0degress0070_0.8611_degrees_x0y-2_crop.jpg\n",
      "Predicted Steering Angle:  0.868674\n",
      "Real Steering Angle:  0.8611\n",
      "Error:  0.00757398023605349\n"
     ]
    }
   ],
   "source": [
    "image, angle = LoadRandomImg()\n",
    "\n",
    "#img = torch.autograd.Variable(image, requires_grad=False).to(device).unsqueeze(0) # Convert to pytorch\n",
    "image = image.to(device).unsqueeze(0)\n",
    "\n",
    "modelPath = 'bestModel.torch'\n",
    "model.load_state_dict(torch.load(modelPath))\n",
    "\n",
    "with torch.no_grad():\n",
    "    prediction = model(image)  # Run net\n",
    "\n",
    "print(\"Predicted Steering Angle: \", prediction.data.cpu().numpy()[0][0])\n",
    "print(\"Real Steering Angle: \", angle)\n",
    "print(\"Error: \",prediction.data.cpu().numpy()[0][0] - angle)"
   ]
  },
  {
   "cell_type": "code",
   "execution_count": null,
   "id": "9911aba5",
   "metadata": {},
   "outputs": [],
   "source": []
  }
 ],
 "metadata": {
  "kernelspec": {
   "display_name": "Python 3 (ipykernel)",
   "language": "python",
   "name": "python3"
  },
  "language_info": {
   "codemirror_mode": {
    "name": "ipython",
    "version": 3
   },
   "file_extension": ".py",
   "mimetype": "text/x-python",
   "name": "python",
   "nbconvert_exporter": "python",
   "pygments_lexer": "ipython3",
   "version": "3.10.6"
  },
  "vscode": {
   "interpreter": {
    "hash": "767d51c1340bd893661ea55ea3124f6de3c7a262a8b4abca0554b478b1e2ff90"
   }
  }
 },
 "nbformat": 4,
 "nbformat_minor": 5
}
