{
 "cells": [
  {
   "cell_type": "code",
   "execution_count": 1,
   "id": "79a649e6",
   "metadata": {},
   "outputs": [],
   "source": [
    "from os import listdir\n",
    "from os.path import isfile, join\n",
    "from PIL import Image\n",
    "\n",
    "import random\n",
    "import math\n",
    "import time\n",
    "import numpy as np\n",
    "import cv2\n",
    "\n",
    "import matplotlib.pyplot as plt\n",
    "import matplotlib.ticker as ticker\n",
    "\n",
    "import torchvision.models.segmentation\n",
    "import torch\n",
    "import torchvision.transforms as tf\n",
    "import torch.nn as nn\n",
    "import torch.nn.functional as F"
   ]
  },
  {
   "cell_type": "code",
   "execution_count": 2,
   "id": "985cbb27",
   "metadata": {},
   "outputs": [],
   "source": [
    "Learning_Rate = 0.000004\n",
    "width = 140\n",
    "height = 180\n",
    "batchSize = 1600\n",
    "epochs = 75\n",
    "\n",
    "trainPercentage = 0.8\n",
    "testPercentage = 0.1\n",
    "valPercentage = 0.1 "
   ]
  },
  {
   "cell_type": "code",
   "execution_count": 3,
   "id": "9f04beae",
   "metadata": {},
   "outputs": [
    {
     "data": {
      "text/plain": [
       "True"
      ]
     },
     "execution_count": 3,
     "metadata": {},
     "output_type": "execute_result"
    }
   ],
   "source": [
    "torch.cuda.is_available()"
   ]
  },
  {
   "cell_type": "code",
   "execution_count": 4,
   "id": "87275e1a",
   "metadata": {},
   "outputs": [],
   "source": [
    "path = 'GeneratedImages'\n",
    "files = [f for f in listdir(path) if isfile(join(path, f))]\n",
    "\n",
    "#randomise the order of the files list\n",
    "random.shuffle(files)"
   ]
  },
  {
   "cell_type": "code",
   "execution_count": 5,
   "id": "69cb6019",
   "metadata": {},
   "outputs": [],
   "source": [
    "def LoadRandomImg():\n",
    "    path = 'GeneratedImages/' + files[random.randrange(0,len(files))]\n",
    "    image = Image.open(path)\n",
    "    angle = path.split('_')[1]\n",
    "\n",
    "    transformImg=tf.Compose([tf.ToPILImage(),tf.Resize((height,width)),tf.ToTensor(),tf.Normalize((0.485, 0.456, 0.406), (0.229, 0.224, 0.225))]) \n",
    "    image=transformImg(np.array(image))\n",
    "    return image, float(angle)"
   ]
  },
  {
   "cell_type": "code",
   "execution_count": 6,
   "id": "ec31f2fb",
   "metadata": {},
   "outputs": [],
   "source": [
    "def LoadImg(name):\n",
    "    path = 'GeneratedImages/' + files[random.randrange(0,len(files))]\n",
    "    image = Image.open(path)\n",
    "    angle = path.split('_')[1]\n",
    "\n",
    "    transformImg=tf.Compose([tf.ToPILImage(),tf.Resize((height,width)),tf.ToTensor(),tf.Normalize((0.485, 0.456, 0.406), (0.229, 0.224, 0.225))]) \n",
    "    image=transformImg(np.array(image))\n",
    "    return image, float(angle)"
   ]
  },
  {
   "cell_type": "code",
   "execution_count": 7,
   "id": "53a54171",
   "metadata": {},
   "outputs": [],
   "source": [
    "trainFiles, valFiles, testFiles = np.split(files, [int(len(files)*trainPercentage), int(len(files)*trainPercentage) + int(len(files)*(testPercentage))])\n",
    "trainFiles = np.ndarray.tolist(trainFiles)\n",
    "trainFilesNotModified = trainFiles.copy()\n",
    "valFiles = np.ndarray.tolist(valFiles)\n",
    "testFiles = np.ndarray.tolist(testFiles)\n",
    "\n",
    "totalBatches = math.ceil(len(trainFiles)/batchSize)\n",
    "\n",
    "allBatches = []\n",
    "\n",
    "for i in range(0,totalBatches):\n",
    "    batch = []\n",
    "    for i in range(0,batchSize):\n",
    "        try:\n",
    "            fileName = trainFiles[0]\n",
    "            trainFiles.remove(fileName)\n",
    "        except:\n",
    "            fileName = files[random.randrange(0,len(files))]\n",
    "        batch.append(LoadImg(fileName))\n",
    "    \n",
    "    allBatches.append(batch)\n",
    "\n",
    "trainFiles = trainFilesNotModified"
   ]
  },
  {
   "cell_type": "code",
   "execution_count": 8,
   "id": "8636cac7",
   "metadata": {},
   "outputs": [],
   "source": [
    "def LoadBatch(i):\n",
    "    images = torch.zeros([batchSize,3,height,width])\n",
    "    angles = torch.zeros([batchSize,1])\n",
    "    for j in range(0,batchSize):\n",
    "        images[j] = allBatches[i][j][0]\n",
    "        angles[j] = allBatches[i][j][1]\n",
    "    return images,angles"
   ]
  },
  {
   "cell_type": "code",
   "execution_count": 9,
   "id": "49e1c54c",
   "metadata": {},
   "outputs": [],
   "source": [
    "def mseTest(set, model, partialSet = True, partialSetPer = 1):\n",
    "    \n",
    "    if set == 'test':\n",
    "        files = testFiles\n",
    "    elif(set == 'val'):\n",
    "        files = valFiles\n",
    "    elif(set == 'train'):\n",
    "        files = trainFiles\n",
    "    \n",
    "    if partialSet:\n",
    "        random.shuffle(files)\n",
    "        length = len(files)\n",
    "        files = files[0:int(length*partialSetPer)]\n",
    "\n",
    "    error = []\n",
    "\n",
    "    device = torch.device('cuda') if torch.cuda.is_available() else torch.device('cpu')\n",
    "\n",
    "    # Set model to eval mode\n",
    "    model = model.eval()\n",
    "\n",
    "    for file in files:\n",
    "        image, trueAngle = LoadImg(file)\n",
    "\n",
    "        #image = torch.autograd.Variable(image, requires_grad=False).to(device).unsqueeze(0) # Convert to pytorch\n",
    "        image = image.to(device).unsqueeze(0)\n",
    "\n",
    "        with torch.no_grad():\n",
    "            prediction = model(image)  # Run net\n",
    "\n",
    "        predAngle = prediction.data.cpu().numpy()\n",
    "\n",
    "        error.append((trueAngle - predAngle)**2)\n",
    "\n",
    "    mse = (1/len(testFiles))*(sum(error))\n",
    "\n",
    "    #print(set + \" MSE: \", str(mse[0][0]))\n",
    "    return mse[0][0]"
   ]
  },
  {
   "cell_type": "code",
   "execution_count": 10,
   "id": "cd46d144",
   "metadata": {},
   "outputs": [
    {
     "data": {
      "text/plain": [
       "64517"
      ]
     },
     "execution_count": 10,
     "metadata": {},
     "output_type": "execute_result"
    }
   ],
   "source": [
    "len(trainFiles)"
   ]
  },
  {
   "cell_type": "code",
   "execution_count": 11,
   "id": "6dca367c",
   "metadata": {},
   "outputs": [],
   "source": [
    "class net(nn.Module):\n",
    "    def __init__(self):\n",
    "        super(net, self).__init__()\n",
    "        self.fc = nn.Linear(512, 128)\n",
    "        \n",
    "        self.branch_a1 = nn.Linear(128, 32)\n",
    "        self.branch_a2 = nn.Linear(32, 1)\n",
    "    \n",
    "    def forward(self, x):\n",
    "        x = F.leaky_relu(self.fc(x))\n",
    "\n",
    "        a = F.leaky_relu(self.branch_a1(x))\n",
    "        \n",
    "        out1 = self.branch_a2(a)\n",
    "        \n",
    "        return out1"
   ]
  },
  {
   "cell_type": "code",
   "execution_count": 12,
   "id": "06084bb5",
   "metadata": {},
   "outputs": [],
   "source": [
    "#load net\n",
    "#To Load Pretrained Weights:   weights='ResNet18_Weights.DEFAULT'\n",
    "resnet18 = torchvision.models.resnet18()\n",
    "resnet18.fc = nn.Identity()\n",
    "net_add=net()\n",
    "model = nn.Sequential(resnet18, net_add)"
   ]
  },
  {
   "cell_type": "code",
   "execution_count": 13,
   "id": "2acc3d07",
   "metadata": {},
   "outputs": [
    {
     "name": "stdout",
     "output_type": "stream",
     "text": [
      "TTR Epoch for 1 of 75: 66 Seconds\n",
      "\n",
      "TTR Epoch for 2 of 75: 63 Seconds\n",
      "    Saving New Best Model With MSE Of: 0.058358055\n",
      "\n",
      "TTR Epoch for 3 of 75: 64 Seconds\n",
      "    Saving New Best Model With MSE Of: 0.020052088\n",
      "\n",
      "TTR Epoch for 4 of 75: 67 Seconds\n",
      "    Saving New Best Model With MSE Of: 0.0071918387\n",
      "\n",
      "TTR Epoch for 5 of 75: 66 Seconds\n",
      "    Saving New Best Model With MSE Of: 0.0031066162\n",
      "\n",
      "TTR Epoch for 6 of 75: 66 Seconds\n",
      "    Saving New Best Model With MSE Of: 0.0022741125\n",
      "\n",
      "TTR Epoch for 7 of 75: 64 Seconds\n",
      "    Saving New Best Model With MSE Of: 0.0015779847\n",
      "\n",
      "TTR Epoch for 8 of 75: 64 Seconds\n",
      "    Saving New Best Model With MSE Of: 0.0012772846\n",
      "\n",
      "TTR Epoch for 9 of 75: 64 Seconds\n",
      "    Saving New Best Model With MSE Of: 0.0009773832\n",
      "\n",
      "TTR Epoch for 10 of 75: 65 Seconds\n",
      "    Saving New Best Model With MSE Of: 0.0008801279\n",
      "\n",
      "TTR Epoch for 11 of 75: 65 Seconds\n",
      "    Saving New Best Model With MSE Of: 0.00083393574\n",
      "\n",
      "TTR Epoch for 12 of 75: 66 Seconds\n",
      "    Saving New Best Model With MSE Of: 0.0007093627\n",
      "\n",
      "TTR Epoch for 13 of 75: 66 Seconds\n",
      "    Saving New Best Model With MSE Of: 0.00058039825\n",
      "\n",
      "TTR Epoch for 14 of 75: 65 Seconds\n",
      "    Saving New Best Model With MSE Of: 0.00057640363\n",
      "\n",
      "TTR Epoch for 15 of 75: 64 Seconds\n",
      "    Saving New Best Model With MSE Of: 0.0004668289\n",
      "\n",
      "TTR Epoch for 16 of 75: 64 Seconds\n",
      "    Saving New Best Model With MSE Of: 0.00044115342\n",
      "\n",
      "TTR Epoch for 17 of 75: 64 Seconds\n",
      "\n",
      "TTR Epoch for 18 of 75: 64 Seconds\n",
      "    Saving New Best Model With MSE Of: 0.00043700804\n",
      "\n",
      "TTR Epoch for 19 of 75: 66 Seconds\n",
      "    Saving New Best Model With MSE Of: 0.00030663083\n",
      "\n",
      "TTR Epoch for 20 of 75: 66 Seconds\n",
      "\n",
      "TTR Epoch for 21 of 75: 65 Seconds\n",
      "\n",
      "TTR Epoch for 22 of 75: 65 Seconds\n",
      "    Saving New Best Model With MSE Of: 0.00028268053\n",
      "\n",
      "TTR Epoch for 23 of 75: 65 Seconds\n",
      "\n",
      "TTR Epoch for 24 of 75: 63 Seconds\n",
      "    Saving New Best Model With MSE Of: 0.00026926867\n",
      "\n",
      "TTR Epoch for 25 of 75: 63 Seconds\n",
      "\n",
      "TTR Epoch for 26 of 75: 66 Seconds\n",
      "\n",
      "TTR Epoch for 27 of 75: 64 Seconds\n",
      "\n",
      "TTR Epoch for 28 of 75: 65 Seconds\n",
      "    Saving New Best Model With MSE Of: 0.00022505052\n",
      "\n",
      "TTR Epoch for 29 of 75: 65 Seconds\n",
      "    Saving New Best Model With MSE Of: 0.00020204883\n",
      "\n",
      "TTR Epoch for 30 of 75: 67 Seconds\n",
      "    Saving New Best Model With MSE Of: 0.0001703622\n",
      "\n",
      "TTR Epoch for 31 of 75: 67 Seconds\n",
      "\n",
      "TTR Epoch for 32 of 75: 66 Seconds\n",
      "\n",
      "TTR Epoch for 33 of 75: 65 Seconds\n",
      "\n",
      "TTR Epoch for 34 of 75: 65 Seconds\n",
      "\n",
      "TTR Epoch for 35 of 75: 66 Seconds\n",
      "\n",
      "TTR Epoch for 36 of 75: 65 Seconds\n",
      "\n",
      "TTR Epoch for 37 of 75: 67 Seconds\n",
      "\n",
      "TTR Epoch for 38 of 75: 67 Seconds\n",
      "\n",
      "TTR Epoch for 39 of 75: 66 Seconds\n",
      "\n",
      "TTR Epoch for 40 of 75: 67 Seconds\n",
      "\n",
      "TTR Epoch for 41 of 75: 66 Seconds\n",
      "\n",
      "TTR Epoch for 42 of 75: 66 Seconds\n",
      "\n",
      "TTR Epoch for 43 of 75: 65 Seconds\n",
      "\n",
      "TTR Epoch for 44 of 75: 64 Seconds\n",
      "\n",
      "TTR Epoch for 45 of 75: 66 Seconds\n",
      "    Saving New Best Model With MSE Of: 0.0001658861\n",
      "\n",
      "TTR Epoch for 46 of 75: 66 Seconds\n",
      "    Saving New Best Model With MSE Of: 0.00013794827\n",
      "\n",
      "TTR Epoch for 47 of 75: 65 Seconds\n",
      "\n",
      "TTR Epoch for 48 of 75: 67 Seconds\n",
      "\n",
      "TTR Epoch for 49 of 75: 66 Seconds\n",
      "    Saving New Best Model With MSE Of: 0.00013207254\n",
      "\n",
      "TTR Epoch for 50 of 75: 66 Seconds\n",
      "\n",
      "TTR Epoch for 51 of 75: 66 Seconds\n",
      "\n",
      "TTR Epoch for 52 of 75: 64 Seconds\n",
      "\n",
      "TTR Epoch for 53 of 75: 65 Seconds\n",
      "\n",
      "TTR Epoch for 54 of 75: 65 Seconds\n",
      "\n",
      "TTR Epoch for 55 of 75: 65 Seconds\n",
      "\n",
      "TTR Epoch for 56 of 75: 67 Seconds\n",
      "\n",
      "TTR Epoch for 57 of 75: 67 Seconds\n",
      "\n",
      "TTR Epoch for 58 of 75: 67 Seconds\n",
      "    Saving New Best Model With MSE Of: 0.00011627718\n",
      "\n",
      "TTR Epoch for 59 of 75: 67 Seconds\n",
      "\n",
      "TTR Epoch for 60 of 75: 66 Seconds\n",
      "    Saving New Best Model With MSE Of: 0.000109274406\n",
      "\n",
      "TTR Epoch for 61 of 75: 66 Seconds\n",
      "\n",
      "TTR Epoch for 62 of 75: 64 Seconds\n",
      "\n",
      "TTR Epoch for 63 of 75: 67 Seconds\n",
      "\n",
      "TTR Epoch for 64 of 75: 66 Seconds\n",
      "    Saving New Best Model With MSE Of: 9.7792676e-05\n",
      "\n",
      "TTR Epoch for 65 of 75: 66 Seconds\n",
      "\n",
      "TTR Epoch for 66 of 75: 67 Seconds\n",
      "\n",
      "TTR Epoch for 67 of 75: 65 Seconds\n",
      "\n",
      "TTR Epoch for 68 of 75: 65 Seconds\n",
      "\n",
      "TTR Epoch for 69 of 75: 65 Seconds\n",
      "\n",
      "TTR Epoch for 70 of 75: 64 Seconds\n",
      "\n",
      "TTR Epoch for 71 of 75: 64 Seconds\n",
      "\n",
      "TTR Epoch for 72 of 75: 66 Seconds\n",
      "\n",
      "TTR Epoch for 73 of 75: 67 Seconds\n",
      "\n",
      "TTR Epoch for 74 of 75: 66 Seconds\n",
      "    Saving New Best Model With MSE Of: 9.655484e-05\n",
      "\n",
      "TTR Epoch for 75 of 75: 65 Seconds\n",
      "\n",
      "Total TTR: 4908 Seconds\n"
     ]
    }
   ],
   "source": [
    "# Set device GPU or CPU\n",
    "device = torch.device('cuda') if torch.cuda.is_available() else torch.device('cpu') \n",
    "\n",
    "# load model to GPU\n",
    "model = model.to(device)\n",
    "\n",
    "# Create optimizer\n",
    "optimizer = torch.optim.Adam(params=model.parameters(),lr=Learning_Rate) \n",
    "\n",
    "# Save average loss for display\n",
    "losses=np.zeros([epochs]) \n",
    "\n",
    "currentBatch = 0\n",
    "max = len(allBatches)*epochs\n",
    "\n",
    "mseAtEpochForVal = []\n",
    "epochArr = []\n",
    "\n",
    "tStart = time.time()\n",
    "saveStr = ''\n",
    "\n",
    "for epoch in range(0,epochs):\n",
    "    t = time.time()\n",
    "    for batch in range(0,len(allBatches)-1):   \n",
    "        # Load taining batch\n",
    "        images,angles = LoadBatch(batch)\n",
    "        \n",
    "        # Load image and send to device\n",
    "        #images = torch.autograd.Variable(images,requires_grad=False).to(device) \n",
    "        images = images.to(device)\n",
    "\n",
    "        # Load GT and send to device\n",
    "        angles = angles.to(device)\n",
    "        \n",
    "        # set model to training mode\n",
    "        model = model.train()\n",
    "\n",
    "        # Make prediction\n",
    "        predLevels = model(images)\n",
    "        model.zero_grad()\n",
    "\n",
    "        # Calculate loss\n",
    "        loss = torch.nn.L1Loss()\n",
    "        output = loss(predLevels, angles)\n",
    "\n",
    "        # Backpropogate loss\n",
    "        output.backward()\n",
    "        \n",
    "        # Apply gradient descent change to weight\n",
    "        optimizer.step() \n",
    "\n",
    "    #val MSE\n",
    "    mseForEpoch = mseTest('val', model)\n",
    "    \n",
    "    epochArr.append(epoch)\n",
    "\n",
    "    # Save loss\n",
    "    losses[epoch]=output.data.cpu().numpy()\n",
    "\n",
    "    #compare model against previous MSE values, save model if better than previous best\n",
    "    if epoch > 0:\n",
    "        if mseForEpoch < min(mseAtEpochForVal):\n",
    "            modelPath = 'bestModel.torch'\n",
    "            saveStr = f'    Saving New Best Model With MSE Of: {str(mseForEpoch)}\\n'\n",
    "            torch.save(model.state_dict(),   modelPath)\n",
    "        else:\n",
    "            saveStr = ''\n",
    "\n",
    "    mseAtEpochForVal.append(mseForEpoch)\n",
    "\n",
    "    #TTR\n",
    "    elapsed = time.time() - t\n",
    "    print(f'TTR Epoch for {epoch+1} of {epochs}: {str(round(elapsed))} Seconds')\n",
    "    print(saveStr)\n",
    "\n",
    "tEnd = time.time()\n",
    "elapsed = tEnd - tStart\n",
    "print(\"Total TTR: \" + str(round(elapsed)) + ' Seconds')"
   ]
  },
  {
   "cell_type": "code",
   "execution_count": 14,
   "id": "a5b8b817",
   "metadata": {},
   "outputs": [
    {
     "data": {
      "image/png": "[encoded data removed]",
      "text/plain": [
       "<Figure size 432x288 with 1 Axes>"
      ]
     },
     "metadata": {
      "needs_background": "light"
     },
     "output_type": "display_data"
    }
   ],
   "source": [
    "plt.plot(epochArr, losses, label='Loss')\n",
    "\n",
    "plt.title('Epoch vs Loss')\n",
    "plt.xlabel('Epoch')\n",
    "plt.ylabel('Loss')\n",
    "plt.legend()\n",
    "plt.show()"
   ]
  },
  {
   "cell_type": "code",
   "execution_count": 15,
   "id": "56a40903",
   "metadata": {},
   "outputs": [
    {
     "data": {
      "image/png": "[encoded data removed]",
      "text/plain": [
       "<Figure size 432x288 with 1 Axes>"
      ]
     },
     "metadata": {
      "needs_background": "light"
     },
     "output_type": "display_data"
    }
   ],
   "source": [
    "plt.plot(epochArr, mseAtEpochForVal, label='Val Set')\n",
    "\n",
    "plt.title('Epoch vs MSE of Val Sets')\n",
    "plt.xlabel('Epoch')\n",
    "plt.ylabel('MSE')\n",
    "plt.legend()\n",
    "plt.show()"
   ]
  },
  {
   "cell_type": "code",
   "execution_count": 16,
   "id": "fba095e0",
   "metadata": {},
   "outputs": [
    {
     "name": "stdout",
     "output_type": "stream",
     "text": [
      "Min MSE: 9.655484e-05\n"
     ]
    }
   ],
   "source": [
    "print('Min MSE: ' + str(min(mseAtEpochForVal)))"
   ]
  },
  {
   "cell_type": "code",
   "execution_count": 17,
   "id": "b6eaf12c",
   "metadata": {},
   "outputs": [
    {
     "name": "stdout",
     "output_type": "stream",
     "text": [
      "0.00012501102\n"
     ]
    }
   ],
   "source": [
    "mseTestSet = mseTest('test', model)\n",
    "print(mseTestSet)"
   ]
  },
  {
   "cell_type": "code",
   "execution_count": 18,
   "id": "280292c0",
   "metadata": {},
   "outputs": [
    {
     "name": "stdout",
     "output_type": "stream",
     "text": [
      "Predicted Steering Angle:  0.30435055\n",
      "Real Steering Angle:  0.2944\n",
      "Error:  0.009950554943084722\n"
     ]
    }
   ],
   "source": [
    "image, angle = LoadRandomImg()\n",
    "\n",
    "#img = torch.autograd.Variable(image, requires_grad=False).to(device).unsqueeze(0) # Convert to pytorch\n",
    "image = image.to(device).unsqueeze(0)\n",
    "\n",
    "\n",
    "with torch.no_grad():\n",
    "    prediction = model(image)  # Run net\n",
    "\n",
    "print(\"Predicted Steering Angle: \", prediction.data.cpu().numpy()[0][0])\n",
    "print(\"Real Steering Angle: \", angle)\n",
    "print(\"Error: \",prediction.data.cpu().numpy()[0][0] - angle)\n"
   ]
  }
 ],
 "metadata": {
  "kernelspec": {
   "display_name": "Python 3 (ipykernel)",
   "language": "python",
   "name": "python3"
  },
  "language_info": {
   "codemirror_mode": {
    "name": "ipython",
    "version": 3
   },
   "file_extension": ".py",
   "mimetype": "text/x-python",
   "name": "python",
   "nbconvert_exporter": "python",
   "pygments_lexer": "ipython3",
   "version": "3.10.6"
  },
  "vscode": {
   "interpreter": {
    "hash": "e7370f93d1d0cde622a1f8e1c04877d8463912d04d973331ad4851f04de6915a"
   }
  }
 },
 "nbformat": 4,
 "nbformat_minor": 5
}
