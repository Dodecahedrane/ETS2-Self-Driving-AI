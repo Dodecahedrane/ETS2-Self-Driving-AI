{
 "cells": [
  {
   "cell_type": "code",
   "execution_count": null,
   "id": "79a649e6",
   "metadata": {},
   "outputs": [],
   "source": [
    "from os import listdir\n",
    "from os.path import isfile, join\n",
    "from PIL import Image\n",
    "\n",
    "import random\n",
    "import math\n",
    "import time\n",
    "import numpy as np\n",
    "import cv2\n",
    "\n",
    "import matplotlib.pyplot as plt\n",
    "import matplotlib.ticker as ticker\n",
    "\n",
    "import torchvision.models.segmentation\n",
    "import torch\n",
    "import torchvision.transforms as tf\n",
    "import torch.nn as nn\n",
    "import torch.nn.functional as F\n",
    "from torch.utils.data import DataLoader\n"
   ]
  },
  {
   "cell_type": "code",
   "execution_count": null,
   "id": "985cbb27",
   "metadata": {},
   "outputs": [],
   "source": [
    "Learning_Rate = 0.000004\n",
    "width = 120\n",
    "height = 120\n",
    "batchSize = 2900\n",
    "epochs = 25\n",
    "\n",
    "trainPercentage = 0.8\n",
    "testPercentage = 0.15\n",
    "valPercentage = 0.05"
   ]
  },
  {
   "cell_type": "code",
   "execution_count": null,
   "id": "9f04beae",
   "metadata": {},
   "outputs": [],
   "source": [
    "torch.cuda.is_available()"
   ]
  },
  {
   "cell_type": "code",
   "execution_count": null,
   "id": "87275e1a",
   "metadata": {},
   "outputs": [],
   "source": [
    "path = 'GeneratedImages'\n",
    "files = [f for f in listdir(path) if isfile(join(path, f))]\n",
    "\n",
    "#randomise the order of the files list\n",
    "random.shuffle(files)"
   ]
  },
  {
   "cell_type": "code",
   "execution_count": null,
   "id": "f8747c95",
   "metadata": {},
   "outputs": [],
   "source": [
    "len(files)"
   ]
  },
  {
   "cell_type": "code",
   "execution_count": null,
   "id": "69cb6019",
   "metadata": {},
   "outputs": [],
   "source": [
    "def LoadRandomImg():\n",
    "    path = 'GeneratedImages/' + files[random.randrange(0,len(files))]\n",
    "    print(path)\n",
    "    image = Image.open(path)\n",
    "    angle = path.split('_')[1]\n",
    "\n",
    "    transformImg=tf.Compose([tf.ToPILImage(),tf.Resize((height,width)),tf.ToTensor(),tf.Normalize((0.485, 0.456, 0.406), (0.229, 0.224, 0.225))]) \n",
    "    image=transformImg(np.array(image))\n",
    "    return image, float(angle)"
   ]
  },
  {
   "cell_type": "code",
   "execution_count": null,
   "id": "ec31f2fb",
   "metadata": {},
   "outputs": [],
   "source": [
    "def LoadImg(name):\n",
    "    path = 'GeneratedImages/' + name\n",
    "    image = Image.open(path)\n",
    "    angle = path.split('_')[1]\n",
    "\n",
    "    transformImg=tf.Compose([tf.ToPILImage(),tf.Resize((height,width)),tf.ToTensor(),tf.Normalize((0.485, 0.456, 0.406), (0.229, 0.224, 0.225))]) \n",
    "    image=transformImg(np.array(image))\n",
    "    return image, float(angle)"
   ]
  },
  {
   "cell_type": "code",
   "execution_count": null,
   "id": "53a54171",
   "metadata": {},
   "outputs": [],
   "source": [
    "trainFiles, valFiles, testFiles = np.split(files, [int(len(files)*trainPercentage), int(len(files)*trainPercentage) + int(len(files)*(testPercentage))])\n",
    "trainFiles = np.ndarray.tolist(trainFiles)\n",
    "trainFilesNotModified = trainFiles.copy()\n",
    "valFiles = np.ndarray.tolist(valFiles)\n",
    "testFiles = np.ndarray.tolist(testFiles)\n",
    "\n",
    "totalBatches = math.ceil(len(trainFiles)/batchSize)\n",
    "\n",
    "allBatches = []\n",
    "\n",
    "for i in range(0,totalBatches):\n",
    "    print(f\"Batch {i} of {totalBatches}\")\n",
    "    batch = []\n",
    "    for j in range(0,batchSize):\n",
    "        try:\n",
    "            fileName = trainFiles[0]\n",
    "            trainFiles.remove(fileName)\n",
    "        except:\n",
    "            fileName = files[random.randrange(0,len(files))]\n",
    "        batch.append(LoadImg(fileName))\n",
    "    \n",
    "    allBatches.append(batch)\n",
    "\n",
    "trainFiles = trainFilesNotModified"
   ]
  },
  {
   "cell_type": "code",
   "execution_count": null,
   "id": "8636cac7",
   "metadata": {},
   "outputs": [],
   "source": [
    "def LoadBatch(i):\n",
    "    images = torch.zeros([batchSize,3,height,width])\n",
    "    angles = torch.zeros([batchSize,1])\n",
    "    for j in range(0,batchSize):\n",
    "        images[j] = allBatches[i][j][0]\n",
    "        angles[j] = allBatches[i][j][1]\n",
    "    return images,angles"
   ]
  },
  {
   "cell_type": "code",
   "execution_count": null,
   "id": "49e1c54c",
   "metadata": {},
   "outputs": [],
   "source": [
    "def mseTest(set, model, partialSet = True, partialSetPer = 1):\n",
    "    \n",
    "    if set == 'test':\n",
    "        files = testFiles\n",
    "    elif(set == 'val'):\n",
    "        files = valFiles\n",
    "    elif(set == 'train'):\n",
    "        files = trainFiles\n",
    "    \n",
    "    if partialSet:\n",
    "        random.shuffle(files)\n",
    "        length = len(files)\n",
    "        files = files[0:int(length*partialSetPer)]\n",
    "\n",
    "    error = []\n",
    "\n",
    "    device = torch.device('cuda') if torch.cuda.is_available() else torch.device('cpu')\n",
    "\n",
    "    # Set model to eval mode\n",
    "    model = model.eval()\n",
    "\n",
    "    for file in files:\n",
    "        image, trueAngle = LoadImg(file)\n",
    "\n",
    "        image = image.to(device).unsqueeze(0)\n",
    "\n",
    "        with torch.no_grad():\n",
    "            prediction = model(image)  # Run net\n",
    "\n",
    "        predAngle = prediction.data.cpu().numpy()\n",
    "\n",
    "        error.append((trueAngle - predAngle)**2)\n",
    "\n",
    "    mse = (1/len(testFiles))*(sum(error))\n",
    "\n",
    "    #print(set + \" MSE: \", str(mse[0][0]))\n",
    "    return mse[0][0]"
   ]
  },
  {
   "cell_type": "code",
   "execution_count": null,
   "id": "cd46d144",
   "metadata": {},
   "outputs": [],
   "source": [
    "len(trainFiles)"
   ]
  },
  {
   "cell_type": "code",
   "execution_count": null,
   "id": "6dca367c",
   "metadata": {},
   "outputs": [],
   "source": [
    "class net(nn.Module):\n",
    "    def __init__(self):\n",
    "        super(net, self).__init__()\n",
    "        self.fc = nn.Linear(512, 128)\n",
    "        \n",
    "        self.branch_a1 = nn.Linear(128, 32)\n",
    "        self.branch_a2 = nn.Linear(32, 1)\n",
    "    \n",
    "    def forward(self, x):\n",
    "        x = F.leaky_relu(self.fc(x))\n",
    "\n",
    "        a = F.leaky_relu(self.branch_a1(x))\n",
    "        \n",
    "        out1 = self.branch_a2(a)\n",
    "        \n",
    "        return out1"
   ]
  },
  {
   "cell_type": "code",
   "execution_count": null,
   "id": "06084bb5",
   "metadata": {},
   "outputs": [],
   "source": [
    "#load net\n",
    "#To Load Pretrained Weights:   weights='ResNet18_Weights.DEFAULT'\n",
    "resnet18 = torchvision.models.resnet18()\n",
    "resnet18.fc = nn.Identity()\n",
    "net_add=net()\n",
    "model = nn.Sequential(resnet18, net_add)\n",
    "\n",
    "# Set device GPU or CPU\n",
    "device = torch.device('cuda') if torch.cuda.is_available() else torch.device('cpu') \n",
    "\n",
    "# load model to GPU\n",
    "model = model.to(device)\n",
    "\n",
    "# Create optimizer\n",
    "optimizer = torch.optim.Adam(params=model.parameters(),lr=Learning_Rate) \n",
    "\n",
    "# Save average loss for display\n",
    "losses=np.zeros([epochs]) \n",
    "\n",
    "mseAtEpochForVal = []\n",
    "epochArr = []"
   ]
  },
  {
   "cell_type": "code",
   "execution_count": null,
   "id": "2acc3d07",
   "metadata": {},
   "outputs": [],
   "source": [
    "tStart = time.time()\n",
    "saveStr = ''\n",
    "\n",
    "for epoch in range(0,epochs):\n",
    "    print(f'Starting Epoch: {str(epoch + 1)}')\n",
    "    t = time.time()\n",
    "\n",
    "    for batch in range(0,len(allBatches)-1):\n",
    "        # Load taining batch\n",
    "        images,angles = LoadBatch(batch)\n",
    "        \n",
    "        # Load image and send to device\n",
    "        images = images.to(device)\n",
    "        # Load GT and send to device\n",
    "        angles = angles.to(device)\n",
    "        # set model to training mode\n",
    "        model = model.train()\n",
    "        # Make prediction\n",
    "        predLevels = model(images)\n",
    "        model.zero_grad()\n",
    "        # Calculate loss\n",
    "        loss = torch.nn.L1Loss()\n",
    "        output = loss(predLevels, angles)\n",
    "        # Backpropogate loss\n",
    "        output.backward()\n",
    "        # Apply gradient descent change to weight\n",
    "        optimizer.step() \n",
    "\n",
    "    # copy training files for next epoch  (TODO make this better)\n",
    "    trainFiles = trainFilesNotModified.copy()\n",
    "\n",
    "    #val MSE\n",
    "    mseForEpoch = mseTest('val', model)\n",
    "    \n",
    "    epochArr.append(epoch)\n",
    "\n",
    "    # Save loss\n",
    "    losses[epoch]=output.data.cpu().numpy()\n",
    "\n",
    "    #compare model against previous MSE values, save model if better than previous best\n",
    "    if epoch > 0:\n",
    "        if mseForEpoch < min(mseAtEpochForVal):\n",
    "            modelPath = 'bestModel.torch'\n",
    "            saveStr = f'    Saving New Best Model With MSE Of: {str(mseForEpoch)}\\n'\n",
    "            torch.save(model.state_dict(),   modelPath)\n",
    "        else:\n",
    "            saveStr = ''\n",
    "\n",
    "    mseAtEpochForVal.append(mseForEpoch)\n",
    "\n",
    "    #TTR\n",
    "    elapsed = time.time() - t\n",
    "    print(f'TTR Epoch for {epoch+1} of {epochs}: {str(round(elapsed))} Seconds')\n",
    "    print(saveStr)\n",
    "\n",
    "tEnd = time.time()\n",
    "elapsed = tEnd - tStart\n",
    "print(\"Total TTR: \" + str(round(elapsed)) + ' Seconds')"
   ]
  },
  {
   "cell_type": "code",
   "execution_count": null,
   "id": "a5b8b817",
   "metadata": {},
   "outputs": [],
   "source": [
    "plt.plot(epochArr, losses, label='Loss')\n",
    "\n",
    "plt.title('Epoch vs Loss')\n",
    "plt.xlabel('Epoch')\n",
    "plt.ylabel('Loss')\n",
    "plt.legend()\n",
    "plt.show()"
   ]
  },
  {
   "cell_type": "code",
   "execution_count": null,
   "id": "56a40903",
   "metadata": {},
   "outputs": [],
   "source": [
    "plt.plot(epochArr, mseAtEpochForVal, label='Val Set')\n",
    "\n",
    "plt.title('Epoch vs MSE of Val Sets')\n",
    "plt.xlabel('Epoch')\n",
    "plt.ylabel('MSE')\n",
    "plt.legend()\n",
    "plt.show()"
   ]
  },
  {
   "cell_type": "code",
   "execution_count": null,
   "id": "fba095e0",
   "metadata": {},
   "outputs": [],
   "source": [
    "print('Min MSE: ' + str(min(mseAtEpochForVal)))"
   ]
  },
  {
   "cell_type": "code",
   "execution_count": null,
   "id": "b6eaf12c",
   "metadata": {},
   "outputs": [],
   "source": [
    "mseTestSet = mseTest('test', model)\n",
    "print(mseTestSet)"
   ]
  },
  {
   "cell_type": "code",
   "execution_count": null,
   "id": "280292c0",
   "metadata": {},
   "outputs": [],
   "source": [
    "image, angle = LoadRandomImg()\n",
    "\n",
    "#img = torch.autograd.Variable(image, requires_grad=False).to(device).unsqueeze(0) # Convert to pytorch\n",
    "image = image.to(device).unsqueeze(0)\n",
    "\n",
    "modelPath = 'bestModel.torch'\n",
    "model.load_state_dict(torch.load(modelPath))\n",
    "model.eval()\n",
    "\n",
    "with torch.no_grad():\n",
    "    prediction = model(image)  # Run net\n",
    "\n",
    "print(\"Predicted Steering Angle: \", prediction.data.cpu().numpy()[0][0])\n",
    "print(\"Real Steering Angle: \", angle)\n",
    "print(\"Error: \",prediction.data.cpu().numpy()[0][0] - angle)"
   ]
  },
  {
   "cell_type": "code",
   "execution_count": null,
   "id": "9911aba5",
   "metadata": {},
   "outputs": [],
   "source": []
  }
 ],
 "metadata": {
  "kernelspec": {
   "display_name": "Python 3 (ipykernel)",
   "language": "python",
   "name": "python3"
  },
  "vscode": {
   "interpreter": {
    "hash": "767d51c1340bd893661ea55ea3124f6de3c7a262a8b4abca0554b478b1e2ff90"
   }
  }
 },
 "nbformat": 4,
 "nbformat_minor": 5
}
