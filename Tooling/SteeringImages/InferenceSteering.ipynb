{
 "cells": [
  {
   "cell_type": "code",
   "execution_count": null,
   "metadata": {},
   "outputs": [],
   "source": [
    "image, angle = LoadImg('')\n",
    "\n",
    "\n",
    "\n",
    "device = torch.device('cuda') if torch.cuda.is_available() else torch.device('cpu')\n",
    "Net = torchvision.models.resnet18(pretrained=True) # Load net\n",
    "Net.fc = torch.nn.Linear(in_features=512, out_features=1, bias=True) # Set final layer to predict one value\n",
    "Net = Net.to(device) # Assign net to gpu or cpu\n",
    "\n",
    "modelPath = '1000.torch'\n",
    "Net.load_state_dict(torch.load(modelPath))\n",
    "\n",
    "#Net.eval() # Set net to evaluation mode, usually usefull in this case its fail\n",
    "\n",
    "\n",
    "Img = torch.autograd.Variable(Img, requires_grad=False).to(device).unsqueeze(0) # Convert to pytorch\n",
    "\n",
    "with torch.no_grad():\n",
    "    Prd = Net(Img)  # Run net\n",
    "\n",
    "print(\"Predicted Steering Angle: \", Prd.data.cpu().numpy())\n",
    "print(\"Real Steering Angle: \", Angle)"
   ]
  }
 ],
 "metadata": {
  "kernelspec": {
   "display_name": "Python 3",
   "language": "python",
   "name": "python3"
  },
  "language_info": {
   "name": "python",
   "version": "3.10.6"
  },
  "orig_nbformat": 4,
  "vscode": {
   "interpreter": {
    "hash": "e7370f93d1d0cde622a1f8e1c04877d8463912d04d973331ad4851f04de6915a"
   }
  }
 },
 "nbformat": 4,
 "nbformat_minor": 2
}
