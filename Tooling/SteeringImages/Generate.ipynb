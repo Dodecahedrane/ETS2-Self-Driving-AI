{
 "cells": [
  {
   "cell_type": "markdown",
   "id": "7556fabd",
   "metadata": {},
   "source": [
    "Import req libraries"
   ]
  },
  {
   "cell_type": "code",
   "execution_count": 59,
   "id": "cf2f2578",
   "metadata": {},
   "outputs": [],
   "source": [
    "import cv2\n",
    "import numpy as np\n",
    "from matplotlib import pyplot as plt\n",
    "import os\n",
    "from os import listdir\n",
    "from os.path import isfile, join\n",
    "import shutil"
   ]
  },
  {
   "cell_type": "markdown",
   "id": "690d388c",
   "metadata": {},
   "source": [
    "Create folder for output images"
   ]
  },
  {
   "cell_type": "code",
   "execution_count": 60,
   "id": "bf23c22c",
   "metadata": {},
   "outputs": [
    {
     "name": "stdout",
     "output_type": "stream",
     "text": [
      "Directory Exists\n"
     ]
    }
   ],
   "source": [
    "path = \"GeneratedImages\"\n",
    "exist = os.path.exists(path)\n",
    "if not exist:\n",
    "    os.makedirs(path)\n",
    "    print(\"Directoty Created\")\n",
    "else:\n",
    "    print('Directory Exists')\n",
    "    #Uncomment these two lines if you want to delete the frames folder before adding more frames\n",
    "    shutil.rmtree(path)\n",
    "    os.makedirs(path)"
   ]
  },
  {
   "cell_type": "markdown",
   "id": "52b579b8",
   "metadata": {},
   "source": [
    "Check folder with images of frames to modify is present"
   ]
  },
  {
   "cell_type": "code",
   "execution_count": 61,
   "id": "1b55dc76",
   "metadata": {},
   "outputs": [
    {
     "name": "stdout",
     "output_type": "stream",
     "text": [
      "Directory Exists\n"
     ]
    }
   ],
   "source": [
    "path = \"Starting\"\n",
    "exist = os.path.exists(path)\n",
    "if not exist:\n",
    "    os.makedirs(path)\n",
    "    print(\"Directoty Created\")\n",
    "else:\n",
    "    print('Directory Exists')"
   ]
  },
  {
   "cell_type": "markdown",
   "id": "d2f4e215",
   "metadata": {},
   "source": [
    "Check there are frames in folder, and create array of all files"
   ]
  },
  {
   "cell_type": "code",
   "execution_count": 62,
   "id": "500448cf",
   "metadata": {},
   "outputs": [],
   "source": [
    "files = [f for f in listdir(path) if isfile(join(path, f))]\n",
    "files.remove('startingImages.zip')"
   ]
  },
  {
   "cell_type": "code",
   "execution_count": 65,
   "id": "230312cb",
   "metadata": {},
   "outputs": [
    {
     "data": {
      "text/plain": [
       "21"
      ]
     },
     "execution_count": 65,
     "metadata": {},
     "output_type": "execute_result"
    }
   ],
   "source": [
    "len(files)"
   ]
  },
  {
   "cell_type": "code",
   "execution_count": 64,
   "id": "1dea25f9",
   "metadata": {},
   "outputs": [
    {
     "name": "stdout",
     "output_type": "stream",
     "text": [
      "0\n",
      "1\n",
      "2\n",
      "3\n",
      "4\n",
      "5\n",
      "6\n",
      "7\n",
      "8\n",
      "9\n",
      "10\n",
      "11\n",
      "12\n",
      "13\n",
      "14\n",
      "15\n",
      "16\n",
      "17\n",
      "18\n",
      "19\n",
      "20\n"
     ]
    }
   ],
   "source": [
    "f = 0\n",
    "for file in files:\n",
    "    print(f)\n",
    "    f=f+1\n",
    "    \n",
    "    #dont want the '.jpg' element of the file name in the file name\n",
    "    noExtension = file[:-4]\n",
    "    #load image\n",
    "    img = cv2.imread('Starting/'+file)\n",
    "    #crop to steering wheel logo\n",
    "    crop = img[852:932, 933:1013]\n",
    "    #save crop\n",
    "    cv2.imwrite(f'GeneratedImages/{noExtension}_0degrees_crop.jpg',crop)\n",
    "    \n",
    "    #array of all angle values to rotate by\n",
    "    angles = np.linspace(-90,90,180)\n",
    "    \n",
    "    for i in range(-4,4):\n",
    "        for j in range(-4,4):\n",
    "            for a in angles:\n",
    "                #finder center of image\n",
    "                (h, w) = img.shape[:2]\n",
    "                (cX, cY) = (w // 2, h // 2)\n",
    "                \n",
    "                # rotate our image by angle a\n",
    "                M = cv2.getRotationMatrix2D((971, 894), a, 1.0)\n",
    "                rotated = cv2.warpAffine(img, M, (w, h))\n",
    "                \n",
    "                #crop to steering wheel logo\n",
    "                x1 = 852 + i\n",
    "                x2 = 932 + i\n",
    "                y1 = 933 + j\n",
    "                y2 = 1013 + j\n",
    "                crop = rotated[x1:x2, y1:y2]\n",
    "                \n",
    "                \n",
    "                \n",
    "                #save image\n",
    "                cv2.imwrite(f'GeneratedImages/{noExtension}_{a}degrees_x{i}_y{j}crop.jpg',crop)                "
   ]
  }
 ],
 "metadata": {
  "kernelspec": {
   "display_name": "Python 3",
   "language": "python",
   "name": "python3"
  },
  "language_info": {
   "codemirror_mode": {
    "name": "ipython",
    "version": 3
   },
   "file_extension": ".py",
   "mimetype": "text/x-python",
   "name": "python",
   "nbconvert_exporter": "python",
   "pygments_lexer": "ipython3",
   "version": "3.10.6"
  },
  "vscode": {
   "interpreter": {
    "hash": "e7370f93d1d0cde622a1f8e1c04877d8463912d04d973331ad4851f04de6915a"
   }
  }
 },
 "nbformat": 4,
 "nbformat_minor": 5
}
