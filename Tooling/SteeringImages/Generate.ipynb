{
 "cells": [
  {
   "cell_type": "markdown",
   "id": "7556fabd",
   "metadata": {},
   "source": [
    "Import req libraries"
   ]
  },
  {
   "cell_type": "code",
   "execution_count": 3,
   "id": "cf2f2578",
   "metadata": {},
   "outputs": [],
   "source": [
    "import cv2\n",
    "import numpy as np\n",
    "from matplotlib import pyplot as plt\n",
    "import os\n",
    "from os import listdir\n",
    "from os.path import isfile, join\n",
    "import shutil"
   ]
  },
  {
   "cell_type": "markdown",
   "id": "690d388c",
   "metadata": {},
   "source": [
    "Create folder for output images"
   ]
  },
  {
   "cell_type": "code",
   "execution_count": 4,
   "id": "bf23c22c",
   "metadata": {},
   "outputs": [
    {
     "name": "stdout",
     "output_type": "stream",
     "text": [
      "Directory Exists\n"
     ]
    }
   ],
   "source": [
    "path = \"GeneratedImages\"\n",
    "exist = os.path.exists(path)\n",
    "if not exist:\n",
    "    os.makedirs(path)\n",
    "    print(\"Directoty Created\")\n",
    "else:\n",
    "    print('Directory Exists')\n",
    "    #Uncomment these two lines if you want to delete the frames folder before adding more frames\n",
    "    shutil.rmtree(path)\n",
    "    os.makedirs(path)"
   ]
  },
  {
   "cell_type": "markdown",
   "id": "52b579b8",
   "metadata": {},
   "source": [
    "Check folder with images of frames to modify is present"
   ]
  },
  {
   "cell_type": "code",
   "execution_count": 5,
   "id": "1b55dc76",
   "metadata": {},
   "outputs": [
    {
     "name": "stdout",
     "output_type": "stream",
     "text": [
      "Directory Exists\n"
     ]
    }
   ],
   "source": [
    "path = \"Starting\"\n",
    "exist = os.path.exists(path)\n",
    "if not exist:\n",
    "    os.makedirs(path)\n",
    "    print(\"Directoty Created\")\n",
    "else:\n",
    "    print('Directory Exists')"
   ]
  },
  {
   "cell_type": "markdown",
   "id": "d2f4e215",
   "metadata": {},
   "source": [
    "Check there are frames in folder, and create array of all files"
   ]
  },
  {
   "cell_type": "code",
   "execution_count": 6,
   "id": "500448cf",
   "metadata": {},
   "outputs": [],
   "source": [
    "files = [f for f in listdir(path) if isfile(join(path, f))]\n",
    "files.remove('startingImages.zip')"
   ]
  },
  {
   "cell_type": "code",
   "execution_count": 7,
   "id": "230312cb",
   "metadata": {},
   "outputs": [
    {
     "data": {
      "text/plain": [
       "5"
      ]
     },
     "execution_count": 7,
     "metadata": {},
     "output_type": "execute_result"
    }
   ],
   "source": [
    "len(files)"
   ]
  },
  {
   "cell_type": "code",
   "execution_count": 8,
   "id": "1dea25f9",
   "metadata": {},
   "outputs": [
    {
     "name": "stdout",
     "output_type": "stream",
     "text": [
      "0\n",
      "1\n",
      "2\n",
      "3\n",
      "4\n"
     ]
    }
   ],
   "source": [
    "f = 0\n",
    "for file in files:\n",
    "    #file = 'vlcsnap-2022-12-23-15h35m99-720.jpg'\n",
    "    print(f)\n",
    "    f=f+1\n",
    "    \n",
    "    #dont want the '.jpg' element of the file name in the file name\n",
    "    noExtension = file[:-4]\n",
    "    #load image\n",
    "    img = cv2.imread('Starting/'+file)\n",
    "    #crop to steering wheel logo\n",
    "    crop = img[852:932, 933:1013]\n",
    "\n",
    "    grayImage = cv2.cvtColor(crop, cv2.COLOR_BGR2GRAY)\n",
    "                \n",
    "    (thresh, contrastImg) = cv2.threshold(grayImage, 100, 255, cv2.THRESH_BINARY)\n",
    "\n",
    "    backtorgb = cv2.cvtColor(contrastImg,cv2.COLOR_GRAY2RGB)\n",
    "\n",
    "\n",
    "    #save crop\n",
    "    cv2.imwrite(f'GeneratedImages/{noExtension}_0degrees_crop.jpg',backtorgb)\n",
    "    \n",
    "    #array of all angle values to rotate by\n",
    "    angles = np.linspace(-90,90,180)\n",
    "    \n",
    "    #set pixel shift\n",
    "    shift = 4\n",
    "\n",
    "    for i in range(-shift,shift):\n",
    "        for j in range(-shift,shift):\n",
    "            for a in angles:\n",
    "                #finder center of image\n",
    "                (h, w) = img.shape[:2]\n",
    "                (cX, cY) = (w // 2, h // 2)\n",
    "                \n",
    "                # rotate our image by angle a\n",
    "                M = cv2.getRotationMatrix2D((971, 894), a, 1.0)\n",
    "                rotated = cv2.warpAffine(img, M, (w, h))\n",
    "                \n",
    "                #crop to steering wheel logo\n",
    "                x1 = 852 + i\n",
    "                x2 = 932 + i\n",
    "                y1 = 933 + j\n",
    "                y2 = 1013 + j\n",
    "                crop = rotated[x1:x2, y1:y2]\n",
    "\n",
    "                grayImage = cv2.cvtColor(crop, cv2.COLOR_BGR2GRAY)\n",
    "                \n",
    "                (thresh, contrastImg) = cv2.threshold(grayImage, 100, 255, cv2.THRESH_BINARY)\n",
    "\n",
    "                backtorgb = cv2.cvtColor(contrastImg,cv2.COLOR_GRAY2RGB)\n",
    "\n",
    "                aNormal = (a-(-90))/(90-(-90))\n",
    "\n",
    "                #save image\n",
    "                cv2.imwrite(f'GeneratedImages/{noExtension}_{aNormal}degrees_x{i}_y{j}crop.jpg',backtorgb)             "
   ]
  }
 ],
 "metadata": {
  "kernelspec": {
   "display_name": "Python 3 (ipykernel)",
   "language": "python",
   "name": "python3"
  },
  "language_info": {
   "codemirror_mode": {
    "name": "ipython",
    "version": 3
   },
   "file_extension": ".py",
   "mimetype": "text/x-python",
   "name": "python",
   "nbconvert_exporter": "python",
   "pygments_lexer": "ipython3",
   "version": "3.10.6"
  },
  "vscode": {
   "interpreter": {
    "hash": "e7370f93d1d0cde622a1f8e1c04877d8463912d04d973331ad4851f04de6915a"
   }
  }
 },
 "nbformat": 4,
 "nbformat_minor": 5
}
