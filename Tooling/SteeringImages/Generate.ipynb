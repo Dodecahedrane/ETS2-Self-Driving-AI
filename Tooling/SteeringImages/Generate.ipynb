{
 "cells": [
  {
   "cell_type": "markdown",
   "id": "7556fabd",
   "metadata": {},
   "source": [
    "Import req libraries"
   ]
  },
  {
   "cell_type": "code",
   "execution_count": 1,
   "id": "cf2f2578",
   "metadata": {
    "vscode": {
     "languageId": "python"
    }
   },
   "outputs": [],
   "source": [
    "import cv2\n",
    "import numpy as np\n",
    "from matplotlib import pyplot as plt\n",
    "import os\n",
    "from os import listdir\n",
    "from os.path import isfile, join\n",
    "import shutil"
   ]
  },
  {
   "cell_type": "markdown",
   "id": "690d388c",
   "metadata": {},
   "source": [
    "Create folder for output images"
   ]
  },
  {
   "cell_type": "code",
   "execution_count": 2,
   "id": "bf23c22c",
   "metadata": {
    "vscode": {
     "languageId": "python"
    }
   },
   "outputs": [
    {
     "name": "stdout",
     "output_type": "stream",
     "text": [
      "Directory Exists\n"
     ]
    }
   ],
   "source": [
    "path = \"GeneratedImages\"\n",
    "exist = os.path.exists(path)\n",
    "if not exist:\n",
    "    os.makedirs(path)\n",
    "    print(\"Directoty Created\")\n",
    "else:\n",
    "    print('Directory Exists')\n",
    "    #Uncomment these two lines if you want to delete the frames folder before adding more frames\n",
    "    shutil.rmtree(path)\n",
    "    os.makedirs(path)"
   ]
  },
  {
   "cell_type": "markdown",
   "id": "52b579b8",
   "metadata": {},
   "source": [
    "Check folder with images of frames to modify is present"
   ]
  },
  {
   "cell_type": "code",
   "execution_count": 3,
   "id": "1b55dc76",
   "metadata": {
    "vscode": {
     "languageId": "python"
    }
   },
   "outputs": [
    {
     "name": "stdout",
     "output_type": "stream",
     "text": [
      "Directory Exists\n"
     ]
    }
   ],
   "source": [
    "path = \"Starting\"\n",
    "exist = os.path.exists(path)\n",
    "if not exist:\n",
    "    os.makedirs(path)\n",
    "    print(\"Directoty Created\")\n",
    "else:\n",
    "    print('Directory Exists')"
   ]
  },
  {
   "cell_type": "markdown",
   "id": "d2f4e215",
   "metadata": {},
   "source": [
    "Check there are frames in folder, and create array of all files"
   ]
  },
  {
   "cell_type": "code",
   "execution_count": 4,
   "id": "500448cf",
   "metadata": {
    "vscode": {
     "languageId": "python"
    }
   },
   "outputs": [],
   "source": [
    "files = [f for f in listdir(path) if isfile(join(path, f))]\n",
    "#files.remove('startingImages.zip')"
   ]
  },
  {
   "cell_type": "code",
   "execution_count": 5,
   "id": "230312cb",
   "metadata": {
    "vscode": {
     "languageId": "python"
    }
   },
   "outputs": [
    {
     "data": {
      "text/plain": [
       "['degrees0-0155.jpg',\n",
       " '0degress0017.jpg',\n",
       " '0degress0025.jpg',\n",
       " 'dayShadows.png',\n",
       " '0degress0068.jpg',\n",
       " '0degress0065.jpg',\n",
       " 'SunsetIsh.png',\n",
       " '0degress0042.jpg',\n",
       " 'degrees0-0133.jpg',\n",
       " '0degress0012.jpg',\n",
       " '0degress0001.jpg',\n",
       " 'degrees0-0033.jpg',\n",
       " 'day3VeryBright.png',\n",
       " '0degress0097.jpg',\n",
       " '0degress0049.jpg',\n",
       " 'vlcsnap-2023-02-20-08h22m55s418.png',\n",
       " '0degress0045.jpg',\n",
       " 'degrees0-0058.jpg',\n",
       " 'degrees0-0004.jpg',\n",
       " 'vlcsnap-2023-02-20-08h14m10s433.png',\n",
       " '0degress0083.jpg',\n",
       " '0degress0028.jpg',\n",
       " '0degress0004.jpg',\n",
       " '0degress0031.jpg',\n",
       " 'vlcsnap-2023-02-20-08h18m45s409.png',\n",
       " 'dayLowishLight.png',\n",
       " 'degrees0-0195.jpg',\n",
       " 'OtherSunsetIsh.png',\n",
       " 'vlcsnap-2023-02-20-08h16m19s708.png',\n",
       " 'degrees0-0188.jpg',\n",
       " '0degress0077.jpg',\n",
       " '0degress0007.jpg',\n",
       " '0degress0071.jpg',\n",
       " '0degress0086.jpg',\n",
       " 'degrees0-0143.jpg',\n",
       " 'vlcsnap-2023-02-20-08h21m56s845.png',\n",
       " 'day1.jpg',\n",
       " 'vlcsnap-2023-02-20-08h18m57s423.png',\n",
       " '0degress0015.jpg',\n",
       " 'day2.png',\n",
       " 'degrees0-0115.jpg',\n",
       " 'vlcsnap-2023-02-20-08h15m38s498.png',\n",
       " '0degress0021.jpg',\n",
       " '0degress0101.jpg',\n",
       " '0degress0055.jpg',\n",
       " '0degress0118.jpg',\n",
       " '0degress0010.jpg',\n",
       " '0degress0122.jpg',\n",
       " 'vlcsnap-2023-02-20-08h17m29s392.png']"
      ]
     },
     "execution_count": 5,
     "metadata": {},
     "output_type": "execute_result"
    }
   ],
   "source": [
    "files"
   ]
  },
  {
   "cell_type": "code",
   "execution_count": 6,
   "id": "1dea25f9",
   "metadata": {
    "vscode": {
     "languageId": "python"
    }
   },
   "outputs": [
    {
     "name": "stdout",
     "output_type": "stream",
     "text": [
      "degrees0-0155.jpg\n",
      "0degress0017.jpg\n",
      "0degress0025.jpg\n",
      "dayShadows.png\n",
      "0degress0068.jpg\n",
      "0degress0065.jpg\n",
      "SunsetIsh.png\n",
      "0degress0042.jpg\n",
      "degrees0-0133.jpg\n",
      "0degress0012.jpg\n",
      "0degress0001.jpg\n",
      "degrees0-0033.jpg\n",
      "day3VeryBright.png\n",
      "0degress0097.jpg\n",
      "0degress0049.jpg\n",
      "vlcsnap-2023-02-20-08h22m55s418.png\n",
      "0degress0045.jpg\n",
      "degrees0-0058.jpg\n",
      "degrees0-0004.jpg\n",
      "vlcsnap-2023-02-20-08h14m10s433.png\n",
      "0degress0083.jpg\n",
      "0degress0028.jpg\n",
      "0degress0004.jpg\n",
      "0degress0031.jpg\n",
      "vlcsnap-2023-02-20-08h18m45s409.png\n",
      "dayLowishLight.png\n",
      "degrees0-0195.jpg\n",
      "OtherSunsetIsh.png\n",
      "vlcsnap-2023-02-20-08h16m19s708.png\n",
      "degrees0-0188.jpg\n",
      "0degress0077.jpg\n",
      "0degress0007.jpg\n",
      "0degress0071.jpg\n",
      "0degress0086.jpg\n",
      "degrees0-0143.jpg\n",
      "vlcsnap-2023-02-20-08h21m56s845.png\n",
      "day1.jpg\n",
      "vlcsnap-2023-02-20-08h18m57s423.png\n",
      "0degress0015.jpg\n",
      "day2.png\n",
      "degrees0-0115.jpg\n",
      "vlcsnap-2023-02-20-08h15m38s498.png\n",
      "0degress0021.jpg\n",
      "0degress0101.jpg\n",
      "0degress0055.jpg\n",
      "0degress0118.jpg\n",
      "0degress0010.jpg\n",
      "0degress0122.jpg\n",
      "vlcsnap-2023-02-20-08h17m29s392.png\n"
     ]
    }
   ],
   "source": [
    "for file in files:\n",
    "    print(file)\n",
    "    #dont want the '.jpg' element of the file name in the file name\n",
    "    noExtension = file[:-4]\n",
    "\n",
    "    #load image\n",
    "    img = cv2.imread('Starting/'+file)\n",
    "    xA = 812\n",
    "    xB = 932\n",
    "    yA = 913\n",
    "    yB = 1033\n",
    "\n",
    "\n",
    "    #crop to steering wheel logo\n",
    "    crop = img[xA:xB, yA:yB]\n",
    "\n",
    "    grayImage = cv2.cvtColor(crop, cv2.COLOR_BGR2GRAY)\n",
    "                \n",
    "    (thresh, contrastImg) = cv2.threshold(grayImage, 100, 255, cv2.THRESH_BINARY)\n",
    "\n",
    "    backtorgb = cv2.cvtColor(contrastImg,cv2.COLOR_GRAY2RGB)\n",
    "\n",
    "\n",
    "    #save crop\n",
    "    cv2.imwrite(f'GeneratedImages/{noExtension}_0_degrees_x0y0_crop.jpg',backtorgb)\n",
    "    \n",
    "    #array of all angle values to rotate by\n",
    "    angles = np.linspace(-90,90,180)\n",
    "    \n",
    "    \n",
    "    for i in range(-8,8):\n",
    "        for j in range(-20,10):\n",
    "            for a in angles:\n",
    "                angle = round(a)\n",
    "\n",
    "                #finder center of image\n",
    "                (h, w) = img.shape[:2]\n",
    "                (cX, cY) = (w // 2, h // 2)\n",
    "                \n",
    "                # rotate our image by angle a\n",
    "                M = cv2.getRotationMatrix2D((971, 894), angle, 1.0)\n",
    "                rotated = cv2.warpAffine(img, M, (w, h))\n",
    "                \n",
    "                #crop to steering wheel logo\n",
    "                x1 = xA + i\n",
    "                x2 = xB + i\n",
    "                y1 = yA + j\n",
    "                y2 = yB + j\n",
    "                crop = rotated[x1:x2, y1:y2]\n",
    "\n",
    "                grayImage = cv2.cvtColor(crop, cv2.COLOR_BGR2GRAY)\n",
    "                \n",
    "                (thresh, contrastImg) = cv2.threshold(grayImage, 100, 255, cv2.THRESH_BINARY)\n",
    "\n",
    "                backtorgb = cv2.cvtColor(contrastImg,cv2.COLOR_GRAY2RGB)\n",
    "\n",
    "                # ground truth\n",
    "                # scale angle between 0 and 1\n",
    "                angle = angle + 90\n",
    "                angle = round((angle-(0))/(180-(0)),4)\n",
    "\n",
    "                #save image\n",
    "                cv2.imwrite(f'GeneratedImages/{noExtension}_{angle}_degrees_x{i}y{j}_crop.jpg',backtorgb)                   "
   ]
  }
 ],
 "metadata": {
  "kernelspec": {
   "display_name": "Python 3 (ipykernel)",
   "language": "python",
   "name": "python3"
  },
  "vscode": {
   "interpreter": {
    "hash": "e7370f93d1d0cde622a1f8e1c04877d8463912d04d973331ad4851f04de6915a"
   }
  }
 },
 "nbformat": 4,
 "nbformat_minor": 5
}
