{
 "cells": [
  {
   "cell_type": "markdown",
   "id": "7556fabd",
   "metadata": {},
   "source": [
    "Import req libraries"
   ]
  },
  {
   "cell_type": "code",
   "execution_count": 43,
   "id": "cf2f2578",
   "metadata": {},
   "outputs": [],
   "source": [
    "import cv2\n",
    "import numpy as np\n",
    "from matplotlib import pyplot as plt\n",
    "import os\n",
    "from os import listdir\n",
    "from os.path import isfile, join\n",
    "import shutil"
   ]
  },
  {
   "cell_type": "markdown",
   "id": "690d388c",
   "metadata": {},
   "source": [
    "Create folder for output images"
   ]
  },
  {
   "cell_type": "code",
   "execution_count": 44,
   "id": "bf23c22c",
   "metadata": {},
   "outputs": [
    {
     "name": "stdout",
     "output_type": "stream",
     "text": [
      "Directory Exists\n"
     ]
    }
   ],
   "source": [
    "path = \"GeneratedImages\"\n",
    "exist = os.path.exists(path)\n",
    "if not exist:\n",
    "    os.makedirs(path)\n",
    "    print(\"Directoty Created\")\n",
    "else:\n",
    "    print('Directory Exists')\n",
    "    #Uncomment these two lines if you want to delete the frames folder before adding more frames\n",
    "    shutil.rmtree(path)\n",
    "    os.makedirs(path)"
   ]
  },
  {
   "cell_type": "markdown",
   "id": "52b579b8",
   "metadata": {},
   "source": [
    "Check folder with images of frames to modify is present"
   ]
  },
  {
   "cell_type": "code",
   "execution_count": 45,
   "id": "1b55dc76",
   "metadata": {},
   "outputs": [
    {
     "name": "stdout",
     "output_type": "stream",
     "text": [
      "Directory Exists\n"
     ]
    }
   ],
   "source": [
    "path = \"Starting\"\n",
    "exist = os.path.exists(path)\n",
    "if not exist:\n",
    "    os.makedirs(path)\n",
    "    print(\"Directoty Created\")\n",
    "else:\n",
    "    print('Directory Exists')"
   ]
  },
  {
   "cell_type": "markdown",
   "id": "d2f4e215",
   "metadata": {},
   "source": [
    "Check there are frames in folder, and create array of all files"
   ]
  },
  {
   "cell_type": "code",
   "execution_count": 50,
   "id": "500448cf",
   "metadata": {},
   "outputs": [],
   "source": [
    "files = [f for f in listdir(path) if isfile(join(path, f))]\n",
    "files.remove('startingImages.zip')"
   ]
  },
  {
   "cell_type": "code",
   "execution_count": 51,
   "id": "230312cb",
   "metadata": {},
   "outputs": [
    {
     "data": {
      "text/plain": [
       "['edited1_frame0.jpg',\n",
       " 'vlcsnap-2022-12-23-15h54m01s867.png',\n",
       " 'vlcsnap-2022-12-23-15h52m27s651.png',\n",
       " 'vlcsnap-2022-12-23-15h51m07s164.png',\n",
       " 'vlcsnap-2022-12-23-15h51m13s361.png',\n",
       " 'vlcsnap-2022-12-23-15h49m06s779.png',\n",
       " 'vlcsnap-2022-12-23-15h53m42s081.png',\n",
       " 'vlcsnap-2022-12-23-15h53m29s498.png',\n",
       " 'vlcsnap-2022-12-23-15h51m01s855.png',\n",
       " 'vlcsnap-2022-12-23-15h52m07s047.png',\n",
       " 'vlcsnap-2022-12-23-15h53m10s639.png',\n",
       " 'vlcsnap-2022-12-23-15h52m03s283.png',\n",
       " 'vlcsnap-2022-12-23-15h54m48s889.png',\n",
       " 'vlcsnap-2022-12-23-15h54m24s855.png',\n",
       " 'vlcsnap-2022-12-23-15h54m35s265.png',\n",
       " 'vlcsnap-2022-12-23-15h52m11s356.png',\n",
       " 'vlcsnap-2022-12-23-15h51m51s387.png',\n",
       " 'vlcsnap-2022-12-23-15h54m20s854.png',\n",
       " 'vlcsnap-2022-12-23-15h53m02s932.png',\n",
       " 'vlcsnap-2022-12-23-15h49m29s281.png',\n",
       " 'vlcsnap-2022-12-23-15h49m50s146.png']"
      ]
     },
     "execution_count": 51,
     "metadata": {},
     "output_type": "execute_result"
    }
   ],
   "source": [
    "len(files)"
   ]
  },
  {
   "cell_type": "code",
   "execution_count": 48,
   "id": "1dea25f9",
   "metadata": {},
   "outputs": [
    {
     "name": "stdout",
     "output_type": "stream",
     "text": [
      "0\n",
      "1\n",
      "2\n",
      "3\n",
      "4\n",
      "5\n",
      "6\n",
      "7\n",
      "8\n",
      "9\n"
     ]
    },
    {
     "ename": "TypeError",
     "evalue": "'NoneType' object is not subscriptable",
     "output_type": "error",
     "traceback": [
      "\u001b[0;31m---------------------------------------------------------------------------\u001b[0m",
      "\u001b[0;31mTypeError\u001b[0m                                 Traceback (most recent call last)",
      "\u001b[0;32m/tmp/ipykernel_11050/3322079451.py\u001b[0m in \u001b[0;36m<module>\u001b[0;34m\u001b[0m\n\u001b[1;32m      8\u001b[0m     \u001b[0mimg\u001b[0m \u001b[0;34m=\u001b[0m \u001b[0mcv2\u001b[0m\u001b[0;34m.\u001b[0m\u001b[0mimread\u001b[0m\u001b[0;34m(\u001b[0m\u001b[0;34m'Starting/'\u001b[0m\u001b[0;34m+\u001b[0m\u001b[0mfile\u001b[0m\u001b[0;34m)\u001b[0m\u001b[0;34m\u001b[0m\u001b[0;34m\u001b[0m\u001b[0m\n\u001b[1;32m      9\u001b[0m     \u001b[0;31m#crop to steering wheel logo\u001b[0m\u001b[0;34m\u001b[0m\u001b[0;34m\u001b[0m\u001b[0m\n\u001b[0;32m---> 10\u001b[0;31m     \u001b[0mcrop\u001b[0m \u001b[0;34m=\u001b[0m \u001b[0mimg\u001b[0m\u001b[0;34m[\u001b[0m\u001b[0;36m852\u001b[0m\u001b[0;34m:\u001b[0m\u001b[0;36m932\u001b[0m\u001b[0;34m,\u001b[0m \u001b[0;36m933\u001b[0m\u001b[0;34m:\u001b[0m\u001b[0;36m1013\u001b[0m\u001b[0;34m]\u001b[0m\u001b[0;34m\u001b[0m\u001b[0;34m\u001b[0m\u001b[0m\n\u001b[0m\u001b[1;32m     11\u001b[0m     \u001b[0;31m#save crop\u001b[0m\u001b[0;34m\u001b[0m\u001b[0;34m\u001b[0m\u001b[0m\n\u001b[1;32m     12\u001b[0m     \u001b[0mcv2\u001b[0m\u001b[0;34m.\u001b[0m\u001b[0mimwrite\u001b[0m\u001b[0;34m(\u001b[0m\u001b[0;34mf'GeneratedImages/{noExtension}_0degrees_crop.jpg'\u001b[0m\u001b[0;34m,\u001b[0m\u001b[0mcrop\u001b[0m\u001b[0;34m)\u001b[0m\u001b[0;34m\u001b[0m\u001b[0;34m\u001b[0m\u001b[0m\n",
      "\u001b[0;31mTypeError\u001b[0m: 'NoneType' object is not subscriptable"
     ]
    }
   ],
   "source": [
    "f = 0\n",
    "for file in files:\n",
    "    print(f)\n",
    "    f=f+1\n",
    "    \n",
    "    #dont want the '.jpg' element of the file name in the file name\n",
    "    noExtension = file[:-4]\n",
    "    #load image\n",
    "    img = cv2.imread('Starting/'+file)\n",
    "    #crop to steering wheel logo\n",
    "    crop = img[852:932, 933:1013]\n",
    "    #save crop\n",
    "    cv2.imwrite(f'GeneratedImages/{noExtension}_0degrees_crop.jpg',crop)\n",
    "    \n",
    "    #array of all angle values to rotate by\n",
    "    angles = np.linspace(-90,90,180)\n",
    "    \n",
    "    for i in range(-4,4):\n",
    "        for j in range(-4,4):\n",
    "            for a in angles:\n",
    "                #finder center of image\n",
    "                (h, w) = img.shape[:2]\n",
    "                (cX, cY) = (w // 2, h // 2)\n",
    "                \n",
    "                # rotate our image by angle a\n",
    "                M = cv2.getRotationMatrix2D((971, 894), a, 1.0)\n",
    "                rotated = cv2.warpAffine(img, M, (w, h))\n",
    "                \n",
    "                #crop to steering wheel logo\n",
    "                x1 = 852 + i\n",
    "                x2 = 932 + i\n",
    "                y1 = 933 + j\n",
    "                y2 = 1013 + j\n",
    "                crop = rotated[x1:x2, y1:y2]\n",
    "                \n",
    "                \n",
    "                \n",
    "                #save image\n",
    "                cv2.imwrite(f'GeneratedImages/{noExtension}_{a}degrees_x{i}_y{j}crop.jpg',crop)                "
   ]
  }
 ],
 "metadata": {
  "kernelspec": {
   "display_name": "Python 3",
   "language": "python",
   "name": "python3"
  },
  "language_info": {
   "codemirror_mode": {
    "name": "ipython",
    "version": 3
   },
   "file_extension": ".py",
   "mimetype": "text/x-python",
   "name": "python",
   "nbconvert_exporter": "python",
   "pygments_lexer": "ipython3",
   "version": "3.10.6"
  },
  "vscode": {
   "interpreter": {
    "hash": "e7370f93d1d0cde622a1f8e1c04877d8463912d04d973331ad4851f04de6915a"
   }
  }
 },
 "nbformat": 4,
 "nbformat_minor": 5
}
