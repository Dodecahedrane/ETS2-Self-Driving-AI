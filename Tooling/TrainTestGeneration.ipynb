{
 "cells": [
  {
   "cell_type": "code",
   "execution_count": 56,
   "id": "128e1447",
   "metadata": {},
   "outputs": [],
   "source": [
    "import cv2\n",
    "import numpy as np\n",
    "from PIL import Image, ImageDraw, ImageFilter"
   ]
  },
  {
   "cell_type": "code",
   "execution_count": 57,
   "id": "26f37273",
   "metadata": {},
   "outputs": [
    {
     "data": {
      "text/plain": [
       "True"
      ]
     },
     "execution_count": 57,
     "metadata": {},
     "output_type": "execute_result"
    }
   ],
   "source": [
    "img = cv2.imread('Example/day2.jpg')\n",
    "crop = img[600:1080, 590:1350]\n",
    "cv2.imwrite('img.jpg',crop)"
   ]
  },
  {
   "cell_type": "code",
   "execution_count": 58,
   "id": "4972955c",
   "metadata": {},
   "outputs": [],
   "source": [
    "im1 = Image.open('img.jpg')\n",
    "im2 = Image.open('anglePink.png')"
   ]
  },
  {
   "cell_type": "code",
   "execution_count": 59,
   "id": "e99edda9",
   "metadata": {},
   "outputs": [],
   "source": [
    "back_im = im1.copy()\n",
    "back_im.paste(im2)\n",
    "im1.save('composit.jpg', quality=95)"
   ]
  },
  {
   "cell_type": "code",
   "execution_count": 60,
   "id": "fd884e8e",
   "metadata": {},
   "outputs": [],
   "source": [
    "background = Image.open(\"img.jpg\")\n",
    "foreground = Image.open(\"anglePink.png\")\n",
    "scale = 1.5\n",
    "h = int(abs(600*scale))\n",
    "w = int(abs(300*scale))\n",
    "foreground = foreground.resize([h,w],Image.ANTIALIAS)\n",
    "\n",
    "background.paste(foreground, (-65, -25), foreground)\n",
    "background.save('composit.jpg', quality=95)"
   ]
  },
  {
   "cell_type": "code",
   "execution_count": null,
   "id": "9d2e9652",
   "metadata": {},
   "outputs": [],
   "source": []
  }
 ],
 "metadata": {
  "kernelspec": {
   "display_name": "Python 3 (ipykernel)",
   "language": "python",
   "name": "python3"
  },
  "language_info": {
   "codemirror_mode": {
    "name": "ipython",
    "version": 3
   },
   "file_extension": ".py",
   "mimetype": "text/x-python",
   "name": "python",
   "nbconvert_exporter": "python",
   "pygments_lexer": "ipython3",
   "version": "3.8.10"
  }
 },
 "nbformat": 4,
 "nbformat_minor": 5
}
