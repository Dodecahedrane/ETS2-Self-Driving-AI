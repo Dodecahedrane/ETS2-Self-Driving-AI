{
 "cells": [
  {
   "cell_type": "code",
   "execution_count": 1,
   "metadata": {},
   "outputs": [],
   "source": [
    "from os import listdir\n",
    "from os.path import isfile, join\n",
    "from PIL import Image\n",
    "\n",
    "import random\n",
    "import math\n",
    "import time\n",
    "import numpy as np\n",
    "import cv2\n",
    "import os\n",
    "import shutil\n",
    "\n",
    "import matplotlib.pyplot as plt\n",
    "import matplotlib.ticker as ticker\n",
    "\n",
    "import torchvision.models.segmentation\n",
    "import torch\n",
    "import torchvision.transforms as tf\n",
    "import torch.nn as nn\n",
    "import torch.nn.functional as F"
   ]
  },
  {
   "cell_type": "code",
   "execution_count": 2,
   "metadata": {},
   "outputs": [],
   "source": [
    "widthSteering = heightSteering = 140\n",
    "\n",
    "widthRoad = 600\n",
    "heightRoad = 200\n",
    "\n",
    "modelsPath = 'Models'\n",
    "modelName = 'bestModel.torch'\n",
    "pathToModel = f'{modelsPath}/{modelName}'\n",
    "\n",
    "framesPath = 'Frames'\n",
    "labeledFrames = 'LabeledFrames'\n",
    "wheelFrames = 'WheelFrames'\n",
    "\n",
    "#road crop area\n",
    "x1R = 400\n",
    "x2R = 600\n",
    "y1R = 630\n",
    "y2R = 1280\n",
    "\n",
    "#road image size\n",
    "widthRoad  = y2R - y1R\n",
    "heightRoad = x2R - x1R\n",
    "\n",
    "#wheel crop area\n",
    "x1W = 812\n",
    "x2W = 932\n",
    "y1W = 913\n",
    "y2W = 1033\n",
    "\n",
    "#wheel image size\n",
    "widthWheel  = y2W - y1W\n",
    "heightWheel = x2W-x1W\n"
   ]
  },
  {
   "cell_type": "code",
   "execution_count": 3,
   "metadata": {},
   "outputs": [
    {
     "name": "stdout",
     "output_type": "stream",
     "text": [
      "Models Path Directoty Exists\n",
      "Frames Directoty Exists\n",
      "Labled Frames Directory Exists\n",
      "Wheel Frames Directory Exists\n"
     ]
    }
   ],
   "source": [
    "exist = os.path.exists(modelsPath)\n",
    "if exist:\n",
    "    print('Models Path Directoty Exists')\n",
    "else:\n",
    "    print('Directory Does not Exists')\n",
    "\n",
    "exist = os.path.exists(framesPath)\n",
    "if exist:\n",
    "    print(\"Frames Directoty Exists\")\n",
    "else:\n",
    "    print(\"Frames Directory Does Not Exists\")\n",
    "\n",
    "\n",
    "exist = os.path.exists(labeledFrames)\n",
    "if not exist:\n",
    "    os.makedirs(labeledFrames)\n",
    "    print(\"Labled Frames Directoty Created\")\n",
    "else:\n",
    "    print('Labled Frames Directory Exists')\n",
    "    #Uncomment these two lines if you want to delete the frames folder before adding more frames\n",
    "    shutil.rmtree(labeledFrames)\n",
    "    os.makedirs(labeledFrames)\n",
    "\n",
    "exist = os.path.exists(wheelFrames)\n",
    "if not exist:\n",
    "    os.makedirs(wheelFrames)\n",
    "    print(\"Wheel Frames Directoty Created\")\n",
    "else:\n",
    "    print('Wheel Frames Directory Exists')\n",
    "    #Uncomment these two lines if you want to delete the frames folder before adding more frames\n",
    "    shutil.rmtree(labeledFrames)\n",
    "    os.makedirs(labeledFrames)"
   ]
  },
  {
   "cell_type": "code",
   "execution_count": 4,
   "metadata": {},
   "outputs": [],
   "source": [
    "startingFrames = [f for f in listdir(framesPath) if isfile(join(framesPath, f))]"
   ]
  },
  {
   "cell_type": "code",
   "execution_count": 5,
   "metadata": {},
   "outputs": [],
   "source": [
    "class net(nn.Module):\n",
    "    def __init__(self):\n",
    "        super(net, self).__init__()\n",
    "        self.fc = nn.Linear(512, 128)\n",
    "        \n",
    "        self.branch_a1 = nn.Linear(128, 32)\n",
    "        self.branch_a2 = nn.Linear(32, 1)\n",
    "    \n",
    "    def forward(self, x):\n",
    "        x = F.leaky_relu(self.fc(x))\n",
    "\n",
    "        a = F.leaky_relu(self.branch_a1(x))\n",
    "        \n",
    "        out1 = self.branch_a2(a)\n",
    "        \n",
    "        return out1"
   ]
  },
  {
   "cell_type": "code",
   "execution_count": 6,
   "metadata": {},
   "outputs": [
    {
     "data": {
      "text/plain": [
       "<All keys matched successfully>"
      ]
     },
     "execution_count": 6,
     "metadata": {},
     "output_type": "execute_result"
    }
   ],
   "source": [
    "#load net\n",
    "#To Load Pretrained Weights:   weights='ResNet18_Weights.DEFAULT'\n",
    "resnet18 = torchvision.models.resnet18()\n",
    "resnet18.fc = nn.Identity()\n",
    "net_add=net()\n",
    "model = nn.Sequential(resnet18, net_add)\n",
    "\n",
    "# Set device GPU or CPU\n",
    "device = torch.device('cuda') if torch.cuda.is_available() else torch.device('cpu') \n",
    "\n",
    "# load model to GPU\n",
    "model = model.to(device)\n",
    "\n",
    "model.load_state_dict(torch.load(pathToModel))"
   ]
  },
  {
   "cell_type": "code",
   "execution_count": 7,
   "metadata": {},
   "outputs": [],
   "source": [
    "def run():\n",
    "    i = 0\n",
    "    for file in startingFrames:\n",
    "        i=i+1\n",
    "        if i%1000 == 0:\n",
    "            print(f'Frame No: {i}')\n",
    "        #dont want the '.jpg' element of the file name in the file name\n",
    "        noExtension = file[:-4]\n",
    "\n",
    "        filePath = f'{framesPath}/{file}'\n",
    "\n",
    "        #load image\n",
    "        wholeFrame = cv2.imread(filePath)\n",
    "\n",
    "        #crop to steering wheel logo and transform image to black and white but in RGB color space\n",
    "        crop = wholeFrame[x1W:x2W, y1W:y2W]\n",
    "\n",
    "        grayImage = cv2.cvtColor(crop, cv2.COLOR_BGR2GRAY)\n",
    "        (thresh, contrastImg) = cv2.threshold(grayImage, 100, 255, cv2.THRESH_BINARY)\n",
    "        backtorgb = cv2.cvtColor(contrastImg,cv2.COLOR_GRAY2RGB)\n",
    "\n",
    "        \n",
    "\n",
    "        transformImg=tf.Compose([tf.ToPILImage(),tf.Resize((heightWheel,widthWheel)),tf.ToTensor(),tf.Normalize((0.485, 0.456, 0.406), (0.229, 0.224, 0.225))]) \n",
    "        wheel=transformImg(np.array(backtorgb))\n",
    "\n",
    "        wheel = wheel.to(device).unsqueeze(0)\n",
    "\n",
    "        with torch.no_grad():\n",
    "            prediction = model(wheel)  # Run net\n",
    "\n",
    "        detectedAngle = prediction.data.cpu().numpy()[0][0]\n",
    "\n",
    "        realAngle = (180*detectedAngle)-90\n",
    "\n",
    "        cv2.imwrite(f'{wheelFrames}/wheelCrop_angleNorm_{detectedAngle}_angleReal_{realAngle}.jpg',backtorgb)\n",
    "\n",
    "        crop = wholeFrame[x1R:x2R, y1R:y2R]\n",
    "\n",
    "        cv2.imwrite(f'{labeledFrames}/{detectedAngle}_degrees_roadcrop_{noExtension}.jpg',crop)\n",
    "\n"
   ]
  },
  {
   "cell_type": "code",
   "execution_count": 8,
   "metadata": {},
   "outputs": [],
   "source": [
    "run()"
   ]
  },
  {
   "cell_type": "code",
   "execution_count": 9,
   "metadata": {},
   "outputs": [],
   "source": [
    "path = 'WheelFrames'\n",
    "files = [f for f in listdir(path) if isfile(join(path, f))]"
   ]
  },
  {
   "cell_type": "code",
   "execution_count": 36,
   "metadata": {},
   "outputs": [
    {
     "data": {
      "image/png": "[encoded data removed]",
      "text/plain": [
       "<Figure size 432x288 with 1 Axes>"
      ]
     },
     "metadata": {
      "needs_background": "light"
     },
     "output_type": "display_data"
    },
    {
     "name": "stdout",
     "output_type": "stream",
     "text": [
      "-5.9236907958984375 Degrees\n"
     ]
    }
   ],
   "source": [
    "n = random.randrange(0,len(files))\n",
    "\n",
    "#Import image\n",
    "cv2img = cv2.imread(f'{path}/{files[n]}')\n",
    "\n",
    "#Show the image with matplotlib\n",
    "plt.imshow(cv2img)\n",
    "plt.show()\n",
    "\n",
    "split = files[n].split('_')\n",
    "\n",
    "print(f'{split[4][:-4]} Degrees')"
   ]
  },
  {
   "cell_type": "code",
   "execution_count": null,
   "metadata": {},
   "outputs": [],
   "source": []
  }
 ],
 "metadata": {
  "kernelspec": {
   "display_name": "Python 3 (ipykernel)",
   "language": "python",
   "name": "python3"
  },
  "language_info": {
   "codemirror_mode": {
    "name": "ipython",
    "version": 3
   },
   "file_extension": ".py",
   "mimetype": "text/x-python",
   "name": "python",
   "nbconvert_exporter": "python",
   "pygments_lexer": "ipython3",
   "version": "3.10.6"
  },
  "vscode": {
   "interpreter": {
    "hash": "e7370f93d1d0cde622a1f8e1c04877d8463912d04d973331ad4851f04de6915a"
   }
  }
 },
 "nbformat": 4,
 "nbformat_minor": 2
}
