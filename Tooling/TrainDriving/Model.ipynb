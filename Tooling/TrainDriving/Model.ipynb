{
 "cells": [
  {
   "cell_type": "code",
   "execution_count": 73,
   "metadata": {},
   "outputs": [],
   "source": [
    "from os import listdir\n",
    "from os.path import isfile, join\n",
    "from PIL import Image\n",
    "\n",
    "import random\n",
    "import math\n",
    "import time\n",
    "import numpy as np\n",
    "import cv2\n",
    "\n",
    "import matplotlib.pyplot as plt\n",
    "import matplotlib.ticker as ticker\n",
    "\n",
    "import torch\n",
    "import torchvision.models.segmentation\n",
    "import torchvision.transforms as tf\n",
    "import torch.nn as nn\n",
    "import torch.nn.functional as F\n",
    "from torchsummary import summary\n",
    "from torch.utils.data import DataLoader, Dataset"
   ]
  },
  {
   "cell_type": "code",
   "execution_count": 74,
   "metadata": {},
   "outputs": [],
   "source": [
    "width = 180\n",
    "height = 56"
   ]
  },
  {
   "cell_type": "code",
   "execution_count": 75,
   "metadata": {},
   "outputs": [],
   "source": [
    "class netNvidia(nn.Module):\n",
    "    def __init__(self):\n",
    "        super(netNvidia, self).__init__()\n",
    "        self.conv_layers = nn.Sequential(\n",
    "            nn.Conv2d(3,24,5, stride=2),\n",
    "            nn.ReLU(),\n",
    "            nn.Conv2d(24,36,5, stride=2),\n",
    "            nn.ReLU(),\n",
    "            nn.Conv2d(36,48, 5, stride=2),\n",
    "            nn.ReLU(),\n",
    "            nn.Conv2d(48,64,3, padding=1),\n",
    "            nn.ReLU(),\n",
    "            nn.Conv2d(64,64,3, padding=1),\n",
    "            #nn.Flatten(),\n",
    "            nn.Dropout(0.5)\n",
    "        )\n",
    "        self.linear_layers = nn.Sequential(\n",
    "            nn.Linear(in_features=64*4*19, out_features=100),\n",
    "            nn.ReLU(),\n",
    "            nn.Linear(in_features=100, out_features=50),\n",
    "            nn.ReLU(),\n",
    "            nn.Linear(in_features=50, out_features=10),\n",
    "            nn.Linear(in_features=10, out_features=1),\n",
    "        )\n",
    "\n",
    "    def forward(self, input):\n",
    "        input = input.view(input.size(0), 3, height, width)\n",
    "        output = self.conv_layers(input)\n",
    "        #print(output.shape)\n",
    "        output = output.view(output.size(0), -1)\n",
    "        output = self.linear_layers(output)\n",
    "        return output"
   ]
  },
  {
   "cell_type": "code",
   "execution_count": 76,
   "metadata": {},
   "outputs": [
    {
     "name": "stdout",
     "output_type": "stream",
     "text": [
      "----------------------------------------------------------------\n",
      "        Layer (type)               Output Shape         Param #\n",
      "================================================================\n",
      "            Conv2d-1           [-1, 24, 26, 88]           1,824\n",
      "              ReLU-2           [-1, 24, 26, 88]               0\n",
      "            Conv2d-3           [-1, 36, 11, 42]          21,636\n",
      "              ReLU-4           [-1, 36, 11, 42]               0\n",
      "            Conv2d-5            [-1, 48, 4, 19]          43,248\n",
      "              ReLU-6            [-1, 48, 4, 19]               0\n",
      "            Conv2d-7            [-1, 64, 4, 19]          27,712\n",
      "              ReLU-8            [-1, 64, 4, 19]               0\n",
      "            Conv2d-9            [-1, 64, 4, 19]          36,928\n",
      "          Dropout-10            [-1, 64, 4, 19]               0\n",
      "           Linear-11                  [-1, 100]         486,500\n",
      "             ReLU-12                  [-1, 100]               0\n",
      "           Linear-13                   [-1, 50]           5,050\n",
      "             ReLU-14                   [-1, 50]               0\n",
      "           Linear-15                   [-1, 10]             510\n",
      "           Linear-16                    [-1, 1]              11\n",
      "================================================================\n",
      "Total params: 623,419\n",
      "Trainable params: 623,419\n",
      "Non-trainable params: 0\n",
      "----------------------------------------------------------------\n",
      "Input size (MB): 0.12\n",
      "Forward/backward pass size (MB): 1.30\n",
      "Params size (MB): 2.38\n",
      "Estimated Total Size (MB): 3.79\n",
      "----------------------------------------------------------------\n"
     ]
    }
   ],
   "source": [
    "model = netNvidia().cuda()\n",
    "torch.device('cuda')\n",
    "summary(model, (3, height, width))"
   ]
  }
 ],
 "metadata": {
  "kernelspec": {
   "display_name": "Python 3",
   "language": "python",
   "name": "python3"
  },
  "language_info": {
   "codemirror_mode": {
    "name": "ipython",
    "version": 3
   },
   "file_extension": ".py",
   "mimetype": "text/x-python",
   "name": "python",
   "nbconvert_exporter": "python",
   "pygments_lexer": "ipython3",
   "version": "3.10.6"
  },
  "orig_nbformat": 4,
  "vscode": {
   "interpreter": {
    "hash": "e7370f93d1d0cde622a1f8e1c04877d8463912d04d973331ad4851f04de6915a"
   }
  }
 },
 "nbformat": 4,
 "nbformat_minor": 2
}
