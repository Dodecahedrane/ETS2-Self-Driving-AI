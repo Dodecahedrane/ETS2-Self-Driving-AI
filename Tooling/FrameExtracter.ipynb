{
 "cells": [
  {
   "cell_type": "markdown",
   "id": "88553ec8",
   "metadata": {},
   "source": [
    "Import Dependencies"
   ]
  },
  {
   "cell_type": "code",
   "execution_count": 14,
   "id": "598cecd7",
   "metadata": {},
   "outputs": [],
   "source": [
    "import cv2\n",
    "import os\n",
    "import shutil"
   ]
  },
  {
   "cell_type": "markdown",
   "id": "e22634e4",
   "metadata": {},
   "source": [
    "Create Frames folder if none exists, uncomment the lines in the 'else' block to delete the frames folder if it does exist and then make a new empty folder"
   ]
  },
  {
   "cell_type": "code",
   "execution_count": 15,
   "id": "b0fa3371",
   "metadata": {},
   "outputs": [
    {
     "name": "stdout",
     "output_type": "stream",
     "text": [
      "Directory Exists\n"
     ]
    }
   ],
   "source": [
    "path = \"Frames\"\n",
    "exist = os.path.exists(path)\n",
    "if not exist:\n",
    "    os.makedirs(path)\n",
    "    print(\"Directoty Created\")\n",
    "else:\n",
    "    print('Directory Exists')\n",
    "    #Uncomment these two lines if you want to delete the frames folder before adding more frames\n",
    "    shutil.rmtree(path)\n",
    "    os.makedirs(path)"
   ]
  },
  {
   "cell_type": "markdown",
   "id": "ce880f54",
   "metadata": {},
   "source": [
    "Make array of all the video files to convert to frames"
   ]
  },
  {
   "cell_type": "code",
   "execution_count": 16,
   "id": "c66f84a3",
   "metadata": {},
   "outputs": [],
   "source": [
    "videoArr = ['edited1.mp4', 'edited2.mp4']"
   ]
  },
  {
   "cell_type": "code",
   "execution_count": 17,
   "id": "45eaf3af",
   "metadata": {},
   "outputs": [],
   "source": [
    "def ExportFrames(video):\n",
    "    vidcap = cv2.VideoCapture(video)\n",
    "    success,image = vidcap.read()\n",
    "    count = 0\n",
    "    \n",
    "    #dont want the '.mp4' element of the file name in the file name for the frames, so remove this\n",
    "    videoNoExtension = video[:-4]\n",
    "    \n",
    "    while success:\n",
    "        #image = cv2.cvtColor(image, cv2.COLOR_BGR2GRAY)\n",
    "        #image = cv2.resize(image, [1920,1080])\n",
    "        \n",
    "        if count%24 == 0:\n",
    "            cv2.imwrite('Frames/' + videoNoExtension + '_' + 'frame' + str(count) + '.jpg', image)\n",
    "\n",
    "            success,image = vidcap.read()\n",
    "            if not success:\n",
    "                print('Error reading frame, aborting at frame number %d',count)\n",
    "                break\n",
    "            else:\n",
    "                count += 1\n",
    "\n",
    "    print('Finished Extracting Frames From ' + video)"
   ]
  },
  {
   "cell_type": "code",
   "execution_count": 18,
   "id": "82ecc1a4",
   "metadata": {},
   "outputs": [
    {
     "ename": "KeyboardInterrupt",
     "evalue": "",
     "output_type": "error",
     "traceback": [
      "\u001b[0;31m---------------------------------------------------------------------------\u001b[0m",
      "\u001b[0;31mKeyboardInterrupt\u001b[0m                         Traceback (most recent call last)",
      "\u001b[0;32m/tmp/ipykernel_121589/4117245598.py\u001b[0m in \u001b[0;36m<module>\u001b[0;34m\u001b[0m\n\u001b[1;32m      1\u001b[0m \u001b[0;32mfor\u001b[0m \u001b[0mv\u001b[0m \u001b[0;32min\u001b[0m \u001b[0mvideoArr\u001b[0m\u001b[0;34m:\u001b[0m\u001b[0;34m\u001b[0m\u001b[0;34m\u001b[0m\u001b[0m\n\u001b[0;32m----> 2\u001b[0;31m     \u001b[0mExportFrames\u001b[0m\u001b[0;34m(\u001b[0m\u001b[0mv\u001b[0m\u001b[0;34m)\u001b[0m\u001b[0;34m\u001b[0m\u001b[0;34m\u001b[0m\u001b[0m\n\u001b[0m",
      "\u001b[0;32m/tmp/ipykernel_121589/3697088121.py\u001b[0m in \u001b[0;36mExportFrames\u001b[0;34m(video)\u001b[0m\n\u001b[1;32m     11\u001b[0m         \u001b[0;31m#image = cv2.resize(image, [1920,1080])\u001b[0m\u001b[0;34m\u001b[0m\u001b[0;34m\u001b[0m\u001b[0m\n\u001b[1;32m     12\u001b[0m \u001b[0;34m\u001b[0m\u001b[0m\n\u001b[0;32m---> 13\u001b[0;31m         \u001b[0;32mif\u001b[0m \u001b[0mcount\u001b[0m\u001b[0;34m%\u001b[0m\u001b[0;36m24\u001b[0m \u001b[0;34m==\u001b[0m \u001b[0;36m0\u001b[0m\u001b[0;34m:\u001b[0m\u001b[0;34m\u001b[0m\u001b[0;34m\u001b[0m\u001b[0m\n\u001b[0m\u001b[1;32m     14\u001b[0m             \u001b[0mcv2\u001b[0m\u001b[0;34m.\u001b[0m\u001b[0mimwrite\u001b[0m\u001b[0;34m(\u001b[0m\u001b[0;34m'Frames/'\u001b[0m \u001b[0;34m+\u001b[0m \u001b[0mvideoNoExtension\u001b[0m \u001b[0;34m+\u001b[0m \u001b[0;34m'_'\u001b[0m \u001b[0;34m+\u001b[0m \u001b[0;34m'frame'\u001b[0m \u001b[0;34m+\u001b[0m \u001b[0mstr\u001b[0m\u001b[0;34m(\u001b[0m\u001b[0mcount\u001b[0m\u001b[0;34m)\u001b[0m \u001b[0;34m+\u001b[0m \u001b[0;34m'.jpg'\u001b[0m\u001b[0;34m,\u001b[0m \u001b[0mimage\u001b[0m\u001b[0;34m)\u001b[0m\u001b[0;34m\u001b[0m\u001b[0;34m\u001b[0m\u001b[0m\n\u001b[1;32m     15\u001b[0m \u001b[0;34m\u001b[0m\u001b[0m\n",
      "\u001b[0;31mKeyboardInterrupt\u001b[0m: "
     ]
    }
   ],
   "source": [
    "for v in videoArr:\n",
    "    ExportFrames(v)"
   ]
  },
  {
   "cell_type": "code",
   "execution_count": null,
   "id": "1e2b0efd",
   "metadata": {},
   "outputs": [],
   "source": []
  }
 ],
 "metadata": {
  "kernelspec": {
   "display_name": "Python 3 (ipykernel)",
   "language": "python",
   "name": "python3"
  },
  "language_info": {
   "codemirror_mode": {
    "name": "ipython",
    "version": 3
   },
   "file_extension": ".py",
   "mimetype": "text/x-python",
   "name": "python",
   "nbconvert_exporter": "python",
   "pygments_lexer": "ipython3",
   "version": "3.10.6"
  }
 },
 "nbformat": 4,
 "nbformat_minor": 5
}
