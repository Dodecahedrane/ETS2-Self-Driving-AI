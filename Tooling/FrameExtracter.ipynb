{
 "cells": [
  {
   "cell_type": "markdown",
   "id": "88553ec8",
   "metadata": {},
   "source": [
    "Import Dependencies"
   ]
  },
  {
   "cell_type": "code",
   "execution_count": 58,
   "id": "598cecd7",
   "metadata": {},
   "outputs": [],
   "source": [
    "import cv2\n",
    "import os\n",
    "import shutil\n",
    "import time"
   ]
  },
  {
   "cell_type": "markdown",
   "id": "e22634e4",
   "metadata": {},
   "source": [
    "Create Frames folder if none exists, uncomment the lines in the 'else' block to delete the frames folder if it does exist and then make a new empty folder"
   ]
  },
  {
   "cell_type": "code",
   "execution_count": 59,
   "id": "b0fa3371",
   "metadata": {},
   "outputs": [],
   "source": [
    "path = \"Frames\"\n",
    "exist = os.path.exists(path)\n",
    "if not exist:\n",
    "       os.makedirs(path)\n",
    "else:\n",
    "    print('Directory Exists')\n",
    "    # Uncomment these two lines if you want to delete the frames folder before adding more frames\n",
    "    #shutil.rmtree(path)\n",
    "    #os.makedirs(path)"
   ]
  },
  {
   "cell_type": "markdown",
   "id": "ce880f54",
   "metadata": {},
   "source": [
    "Make array of all the video files to convert to frames"
   ]
  },
  {
   "cell_type": "code",
   "execution_count": 60,
   "id": "c66f84a3",
   "metadata": {},
   "outputs": [],
   "source": [
    "videoArr = ['edited1.mp4','edited2.mp4']"
   ]
  },
  {
   "cell_type": "code",
   "execution_count": 61,
   "id": "45eaf3af",
   "metadata": {},
   "outputs": [],
   "source": [
    "def ExportFrames(video):\n",
    "    vidcap = cv2.VideoCapture(video)\n",
    "    success,image = vidcap.read()\n",
    "    count = 0\n",
    "    \n",
    "    #dont want the '.mp4' element of the file name in the file name for the frames, so remove this\n",
    "    videoNoExtension = video[:-4]\n",
    "    \n",
    "    while success:\n",
    "        cv2.imwrite('Frames/' + videoNoExtension + '_' + 'frame' + str(count) + '.jpg', image)\n",
    "        success,image = vidcap.read()\n",
    "        if not success:\n",
    "            print('Error reading frame, aborting at frame number %d',count)\n",
    "            break\n",
    "        else:\n",
    "            count += 1\n",
    "\n",
    "\n",
    "    print('Finished Extracting Frames From ' + video)"
   ]
  },
  {
   "cell_type": "code",
   "execution_count": 62,
   "id": "82ecc1a4",
   "metadata": {},
   "outputs": [
    {
     "name": "stdout",
     "output_type": "stream",
     "text": [
      "Error reading frame, aborting at frame number %d 36861\n",
      "Finished Extracting Frames From edited1.mp4\n",
      "Error reading frame, aborting at frame number %d 57508\n",
      "Finished Extracting Frames From edited2.mp4\n"
     ]
    }
   ],
   "source": [
    "for v in videoArr:\n",
    "    ExportFrames(v)"
   ]
  },
  {
   "cell_type": "code",
   "execution_count": null,
   "id": "1e2b0efd",
   "metadata": {},
   "outputs": [],
   "source": []
  }
 ],
 "metadata": {
  "kernelspec": {
   "display_name": "Python 3 (ipykernel)",
   "language": "python",
   "name": "python3"
  },
  "language_info": {
   "codemirror_mode": {
    "name": "ipython",
    "version": 3
   },
   "file_extension": ".py",
   "mimetype": "text/x-python",
   "name": "python",
   "nbconvert_exporter": "python",
   "pygments_lexer": "ipython3",
   "version": "3.8.10"
  }
 },
 "nbformat": 4,
 "nbformat_minor": 5
}
