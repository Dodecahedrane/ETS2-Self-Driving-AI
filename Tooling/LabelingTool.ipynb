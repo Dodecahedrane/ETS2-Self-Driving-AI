{
 "cells": [
  {
   "cell_type": "code",
   "execution_count": null,
   "id": "ecf04993",
   "metadata": {},
   "outputs": [],
   "source": [
    "#ask if wheel or speed\n",
    "#check there are files to label\n",
    "#connect to redis\n",
    "#find next image to label\n",
    "#check doesnt exist in redis\n",
    "#show user image(s)\n",
    "#ask user for label\n",
    "#check within bounds\n",
    "#submit to redis"
   ]
  },
  {
   "cell_type": "code",
   "execution_count": 1,
   "id": "0f5fad8b",
   "metadata": {},
   "outputs": [],
   "source": [
    "import redis\n",
    "import sys\n"
   ]
  },
  {
   "cell_type": "code",
   "execution_count": 2,
   "id": "5f794145",
   "metadata": {},
   "outputs": [],
   "source": [
    "r = redis.Redis(host='localhost', port=6379, db=0, decode_responses=True)"
   ]
  },
  {
   "cell_type": "code",
   "execution_count": 5,
   "id": "0b1d0d81",
   "metadata": {},
   "outputs": [
    {
     "data": {
      "text/plain": [
       "True"
      ]
     },
     "execution_count": 5,
     "metadata": {},
     "output_type": "execute_result"
    }
   ],
   "source": [
    "r.set('noo', 'yar')\n",
    "r.set('foo', 'bar')"
   ]
  },
  {
   "cell_type": "code",
   "execution_count": 4,
   "id": "9e2090f5",
   "metadata": {},
   "outputs": [
    {
     "data": {
      "text/plain": [
       "'bar'"
      ]
     },
     "execution_count": 4,
     "metadata": {},
     "output_type": "execute_result"
    }
   ],
   "source": [
    "r.get('foo')"
   ]
  },
  {
   "cell_type": "code",
   "execution_count": 6,
   "id": "98bac0f7",
   "metadata": {},
   "outputs": [
    {
     "data": {
      "text/plain": [
       "1"
      ]
     },
     "execution_count": 6,
     "metadata": {},
     "output_type": "execute_result"
    }
   ],
   "source": [
    "r.delete('foo')\n",
    "r.delete('noo')"
   ]
  },
  {
   "cell_type": "code",
   "execution_count": null,
   "id": "32ace95a",
   "metadata": {},
   "outputs": [],
   "source": [
    "for file in os.listdir(directory):\n",
    "     filename = os.fsdecode(file)\n",
    "     if filename.endswith(\".jpg\"):\n",
    "         print(os.path.join(filename))\n",
    "         GenerateImageForLabeling('Frames/' + filename, \"WheelAngleLabel\", \"SpeedLabel\")"
   ]
  },
  {
   "cell_type": "code",
   "execution_count": null,
   "id": "c0f8dad7",
   "metadata": {},
   "outputs": [],
   "source": [
    "def startingInput():\n",
    "    i = input(\"Type 'w' for wheel, 's' for speed or 'x' for exit: \")\n",
    "    \n",
    "    if(i == 'w'):\n",
    "        directory = 'WheelAngleLabel'\n",
    "        print('Loading Wheel angle Labeler')\n",
    "        SpeedLabeler()\n",
    "    elif(i == 's'):\n",
    "        directory = 'SpeedLabel'\n",
    "        print('Loading Wheel angle Labeler')\n",
    "        WheelLabeler()\n",
    "    elif(i == 'x'):\n",
    "        print('Exiting Labeler')\n",
    "        sys.exit()\n",
    "    else:\n",
    "        print('Not a valid input')\n",
    "        startingInput()"
   ]
  },
  {
   "cell_type": "code",
   "execution_count": null,
   "id": "522d4633",
   "metadata": {},
   "outputs": [],
   "source": [
    "def WheelLabeler:\n",
    "    "
   ]
  },
  {
   "cell_type": "code",
   "execution_count": null,
   "id": "fb340440",
   "metadata": {},
   "outputs": [],
   "source": [
    "def SpeedLabeler:\n",
    "    "
   ]
  },
  {
   "cell_type": "code",
   "execution_count": null,
   "id": "921cc830",
   "metadata": {},
   "outputs": [],
   "source": [
    "i = ''\n",
    "directory = ''"
   ]
  }
 ],
 "metadata": {
  "kernelspec": {
   "display_name": "Python 3 (ipykernel)",
   "language": "python",
   "name": "python3"
  },
  "language_info": {
   "codemirror_mode": {
    "name": "ipython",
    "version": 3
   },
   "file_extension": ".py",
   "mimetype": "text/x-python",
   "name": "python",
   "nbconvert_exporter": "python",
   "pygments_lexer": "ipython3",
   "version": "3.8.10"
  }
 },
 "nbformat": 4,
 "nbformat_minor": 5
}
