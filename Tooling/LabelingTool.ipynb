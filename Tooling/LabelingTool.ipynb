{
 "cells": [
  {
   "cell_type": "code",
   "execution_count": null,
   "id": "ecf04993",
   "metadata": {},
   "outputs": [],
   "source": [
    "#check there are files to label\n",
    "#connect to redis\n",
    "#ask if wheel or speed\n",
    "#find next image to label\n",
    "#check doesnt exist in redis\n",
    "#show user image(s)\n",
    "#ask user for label\n",
    "#check within bounds\n",
    "#submit to redis"
   ]
  }
 ],
 "metadata": {
  "kernelspec": {
   "display_name": "Python 3 (ipykernel)",
   "language": "python",
   "name": "python3"
  },
  "language_info": {
   "codemirror_mode": {
    "name": "ipython",
    "version": 3
   },
   "file_extension": ".py",
   "mimetype": "text/x-python",
   "name": "python",
   "nbconvert_exporter": "python",
   "pygments_lexer": "ipython3",
   "version": "3.8.10"
  }
 },
 "nbformat": 4,
 "nbformat_minor": 5
}
