{
 "cells": [
  {
   "cell_type": "code",
   "execution_count": null,
   "id": "ecf04993",
   "metadata": {},
   "outputs": [],
   "source": [
    "#ask if wheel or speed\n",
    "#check there are files to label\n",
    "#connect to redis\n",
    "#find next image to label\n",
    "#check doesnt exist in redis\n",
    "#show user image(s)\n",
    "#ask user for label\n",
    "#check within bounds\n",
    "#submit to redis"
   ]
  },
  {
   "cell_type": "code",
   "execution_count": 6,
   "id": "0f5fad8b",
   "metadata": {},
   "outputs": [],
   "source": [
    "import redis\n",
    "import sys\n",
    "import os\n",
    "import cv2\n",
    "import matplotlib.pyplot as plt\n",
    "import matplotlib.image as mpimg"
   ]
  },
  {
   "cell_type": "code",
   "execution_count": 7,
   "id": "c5737a5b",
   "metadata": {},
   "outputs": [],
   "source": [
    "redisAngle = redis.Redis(host='localhost', port=6379, db=1, decode_responses=True)\n",
    "redisSpeed = redis.Redis(host='localhost', port=6379, db=2, decode_responses=True)"
   ]
  },
  {
   "cell_type": "code",
   "execution_count": 1,
   "id": "a10b102e",
   "metadata": {},
   "outputs": [],
   "source": [
    "def WheelLabel():\n",
    "    label = input('What Angle?  ')\n",
    "    if label == 's':\n",
    "        return 'skip'\n",
    "    if label.isnumeric():\n",
    "        if int(label) > 0 and int(label) < 180:\n",
    "            return label\n",
    "        else:\n",
    "            print(\"Out of bounds, must be between 0 and 180. Press 's' to skip or 'x' to exit\")\n",
    "            return WheelLabel()\n",
    "    else:\n",
    "        print(\"Must be interger between 0 and 180, press 's' to skip or 'x' to exit\")\n",
    "        return WheelLabel()\n",
    "\n",
    "def WheelLabeler(path):\n",
    "    print('Loading Wheel Angle Labeler')\n",
    "    \n",
    "    exist = os.path.exists(path)\n",
    "    if exist:\n",
    "        print('Directory Exists')\n",
    "    else:\n",
    "        print('Directory Does Not Exists')\n",
    "        sys.exit()\n",
    "    \n",
    "    directory = os.fsencode(path+'/Original/')\n",
    "    \n",
    "    for file in os.listdir(directory):\n",
    "        filename = os.fsdecode(file)\n",
    "        if filename.endswith(\".jpg\"):            \n",
    "            img = mpimg.imread(path + '/Angle/' + filename)\n",
    "            imgplot = plt.imshow(img)\n",
    "            plt.show()\n",
    "            \n",
    "            label = WheelLabel()\n",
    "            if label != 's':\n",
    "                if redisAngle.get(label) == None:\n",
    "                    redisAngle.set(filename, label)\n",
    "                    os.remove(path + '/Angle/' +  filename)\n",
    "            elif label == 's':\n",
    "                print('Skipped')\n",
    "            elif label == 's':\n",
    "                print('Exiting')\n",
    "                sys.exit();\n",
    "            else:\n",
    "                print('Skipped')"
   ]
  },
  {
   "cell_type": "code",
   "execution_count": 2,
   "id": "c55be3f0",
   "metadata": {},
   "outputs": [],
   "source": [
    "def SpeedLabel():\n",
    "    label = input('What Speed?  ')\n",
    "    if label == 's':\n",
    "        return 'skip'\n",
    "    if label.isnumeric():\n",
    "        if int(label) > 0 and int(label) < 100:\n",
    "            return label\n",
    "        else:\n",
    "            print(\"Out of bounds, must be between 0 and 100. Press 's' to skip or 'x' to exit\")\n",
    "            return SpeedLabel()\n",
    "    else:\n",
    "        print(\"Must be interger between 0 and 100, press 's' to skip or 'x' to exit\")\n",
    "        return SpeedLabel()\n",
    "\n",
    "def SpeedLabeler(path):\n",
    "    print('Loading Speed Labeler')\n",
    "    \n",
    "    exist = os.path.exists(path)\n",
    "    if exist:\n",
    "        print('Directory Exists')\n",
    "    else:\n",
    "        print('Directory Does Not Exists')\n",
    "        sys.exit()\n",
    "    \n",
    "    directory = os.fsencode(path)\n",
    "    \n",
    "    for file in os.listdir(directory):\n",
    "        filename = os.fsdecode(file)\n",
    "        if filename.endswith(\".jpg\"):\n",
    "            img = mpimg.imread(path + filename)\n",
    "            imgplot = plt.imshow(img)\n",
    "            plt.show()\n",
    "            \n",
    "            label = SpeedLabel()\n",
    "            if label != 's' and label != 'x':\n",
    "                if redisSpeed.get(label) == None:\n",
    "                    redisSpeed.set(filename, label)\n",
    "                    os.remove(path + '/Angle/' + filename)\n",
    "                print(label + ' Degrees')\n",
    "            elif label == 's':\n",
    "                print('Skipped')\n",
    "            elif label == 's':\n",
    "                print('Exiting')\n",
    "                sys.exit();\n",
    "            else:\n",
    "                print('Skipped')\n",
    "            "
   ]
  },
  {
   "cell_type": "code",
   "execution_count": 3,
   "id": "7045464e",
   "metadata": {},
   "outputs": [],
   "source": [
    "def run():\n",
    "    i = input(\"Type 'w' for wheel, 's' for speed or 'x' for exit: \")\n",
    "    \n",
    "    if(i == 's'):\n",
    "        SpeedLabeler('SpeedLabel')\n",
    "        \n",
    "    elif(i == 'w'):\n",
    "        WheelLabeler('WheelAngleLabel')\n",
    "        \n",
    "    elif(i == 'x'):\n",
    "        print('Exiting Labeler')\n",
    "        sys.exit()\n",
    "        \n",
    "    else:\n",
    "        print('Not a valid input')\n",
    "        startingInput()"
   ]
  },
  {
   "cell_type": "code",
   "execution_count": null,
   "id": "8361cfc2",
   "metadata": {},
   "outputs": [],
   "source": [
    "i = ''\n",
    "run()"
   ]
  },
  {
   "cell_type": "code",
   "execution_count": 13,
   "id": "137b268c",
   "metadata": {},
   "outputs": [
    {
     "name": "stdout",
     "output_type": "stream",
     "text": [
      "edited2_frame13620.jpg\n",
      "45\n",
      "edited2_frame21080.jpg\n",
      "115\n",
      "edited2_frame12580.jpg\n",
      "90\n",
      "edited2_frame53340.jpg\n",
      "87\n",
      "edited2_frame44420.jpg\n",
      "92\n",
      "edited2_frame44360.jpg\n",
      "90\n",
      "edited2_frame37240.jpg\n",
      "90\n",
      "edited2_frame48880.jpg\n",
      "87\n",
      "edited2_frame22600.jpg\n",
      "88\n"
     ]
    }
   ],
   "source": [
    "for key in redisAngle.keys():\n",
    "    print(key)\n",
    "    print(redisAngle.get(key))"
   ]
  },
  {
   "cell_type": "code",
   "execution_count": null,
   "id": "0fa7346e",
   "metadata": {},
   "outputs": [],
   "source": []
  }
 ],
 "metadata": {
  "kernelspec": {
   "display_name": "Python 3 (ipykernel)",
   "language": "python",
   "name": "python3"
  },
  "language_info": {
   "codemirror_mode": {
    "name": "ipython",
    "version": 3
   },
   "file_extension": ".py",
   "mimetype": "text/x-python",
   "name": "python",
   "nbconvert_exporter": "python",
   "pygments_lexer": "ipython3",
   "version": "3.8.10"
  }
 },
 "nbformat": 4,
 "nbformat_minor": 5
}
