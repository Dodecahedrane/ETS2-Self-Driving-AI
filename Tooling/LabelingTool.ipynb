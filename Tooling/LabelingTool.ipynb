{
 "cells": [
  {
   "cell_type": "code",
   "execution_count": null,
   "id": "ecf04993",
   "metadata": {},
   "outputs": [],
   "source": [
    "#ask if wheel or speed\n",
    "#check there are files to label\n",
    "#connect to redis\n",
    "#find next image to label\n",
    "#check doesnt exist in redis\n",
    "#show user image(s)\n",
    "#ask user for label\n",
    "#check within bounds\n",
    "#submit to redis"
   ]
  },
  {
   "cell_type": "code",
   "execution_count": 8,
   "id": "0f5fad8b",
   "metadata": {},
   "outputs": [],
   "source": [
    "import redis\n",
    "import sys\n",
    "import os\n",
    "import cv2"
   ]
  },
  {
   "cell_type": "code",
   "execution_count": null,
   "id": "44671324",
   "metadata": {},
   "outputs": [],
   "source": [
    "r = redis.Redis(host='localhost', port=6379, db=0, decode_responses=True)"
   ]
  },
  {
   "cell_type": "code",
   "execution_count": null,
   "id": "0b1d0d81",
   "metadata": {},
   "outputs": [],
   "source": [
    "r.set('noo', 'yar')\n",
    "r.set('foo', 'bar')"
   ]
  },
  {
   "cell_type": "code",
   "execution_count": null,
   "id": "9e2090f5",
   "metadata": {},
   "outputs": [],
   "source": [
    "r.get('foo')"
   ]
  },
  {
   "cell_type": "code",
   "execution_count": null,
   "id": "08971983",
   "metadata": {},
   "outputs": [],
   "source": [
    "r.delete('foo')\n",
    "r.delete('noo')"
   ]
  },
  {
   "cell_type": "code",
   "execution_count": 25,
   "id": "edcd2672",
   "metadata": {},
   "outputs": [],
   "source": [
    "def WheelLabeler(path):\n",
    "    print('Loading Wheel Angle Labeler')\n",
    "    \n",
    "    exist = os.path.exists(path)\n",
    "    if exist:\n",
    "        print('Directory Exists')\n",
    "    else:\n",
    "        print('Directory Does Not Exists')\n",
    "        #sys.exit()\n",
    "    \n",
    "    directory = os.fsencode(path)\n",
    "    \n",
    "    for file in os.listdir(directory):\n",
    "        filename = os.fsdecode(file)\n",
    "        if filename.endswith(\".jpg\"):\n",
    "            #print(os.path.join(filename))\n",
    "            img = cv2.imread(path + '/' + filename)\n",
    "            cv2.imshow('Image To Label',img)\n",
    "            cv2.waitKey(0)"
   ]
  },
  {
   "cell_type": "code",
   "execution_count": 26,
   "id": "2ea502bc",
   "metadata": {},
   "outputs": [],
   "source": [
    "def SpeedLabeler(path):\n",
    "    print('Loading Speed Labeler')\n",
    "    \n",
    "    exist = os.path.exists(path)\n",
    "    if exist:\n",
    "        print('Directory Exists')\n",
    "    else:\n",
    "        print('Directory Does Not Exists')\n",
    "        #sys.exit()\n",
    "    \n",
    "    directory = os.fsencode(path)\n",
    "    \n",
    "    for file in os.listdir(directory):\n",
    "        filename = os.fsdecode(file)\n",
    "        if filename.endswith(\".jpg\"):\n",
    "            print(os.path.join(filename))\n",
    "            "
   ]
  },
  {
   "cell_type": "code",
   "execution_count": 27,
   "id": "e2f520ca",
   "metadata": {},
   "outputs": [],
   "source": [
    "def run():\n",
    "    i = input(\"Type 'w' for wheel, 's' for speed or 'x' for exit: \")\n",
    "    \n",
    "    if(i == 's'):\n",
    "        SpeedLabeler('WheelAngleLabel')\n",
    "        \n",
    "    elif(i == 'w'):\n",
    "        WheelLabeler('SpeedLabel')\n",
    "        \n",
    "    elif(i == 'x'):\n",
    "        print('Exiting Labeler')\n",
    "        sys.exit()\n",
    "        \n",
    "    else:\n",
    "        print('Not a valid input')\n",
    "        startingInput()"
   ]
  },
  {
   "cell_type": "code",
   "execution_count": null,
   "id": "09dbc7aa",
   "metadata": {},
   "outputs": [
    {
     "name": "stdout",
     "output_type": "stream",
     "text": [
      "Type 'w' for wheel, 's' for speed or 'x' for exit: w\n",
      "Loading Wheel Angle Labeler\n",
      "Directory Exists\n"
     ]
    }
   ],
   "source": [
    "i = ''\n",
    "directory = ''\n",
    "\n",
    "run()"
   ]
  },
  {
   "cell_type": "code",
   "execution_count": null,
   "id": "ac14cda6",
   "metadata": {},
   "outputs": [],
   "source": []
  }
 ],
 "metadata": {
  "kernelspec": {
   "display_name": "Python 3 (ipykernel)",
   "language": "python",
   "name": "python3"
  },
  "language_info": {
   "codemirror_mode": {
    "name": "ipython",
    "version": 3
   },
   "file_extension": ".py",
   "mimetype": "text/x-python",
   "name": "python",
   "nbconvert_exporter": "python",
   "pygments_lexer": "ipython3",
   "version": "3.8.10"
  }
 },
 "nbformat": 4,
 "nbformat_minor": 5
}
